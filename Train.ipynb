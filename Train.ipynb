{
 "cells": [
  {
   "cell_type": "markdown",
   "metadata": {
    "papermill": {
     "duration": 0.045263,
     "end_time": "2020-10-11T18:58:35.390030",
     "exception": false,
     "start_time": "2020-10-11T18:58:35.344767",
     "status": "completed"
    },
    "tags": []
   },
   "source": [
    "## Import"
   ]
  },
  {
   "cell_type": "code",
   "execution_count": 1,
   "metadata": {
    "execution": {
     "iopub.execute_input": "2020-10-11T18:58:35.484898Z",
     "iopub.status.busy": "2020-10-11T18:58:35.484153Z",
     "iopub.status.idle": "2020-10-11T18:58:42.200083Z",
     "shell.execute_reply": "2020-10-11T18:58:42.199423Z"
    },
    "papermill": {
     "duration": 6.766481,
     "end_time": "2020-10-11T18:58:42.200193",
     "exception": false,
     "start_time": "2020-10-11T18:58:35.433712",
     "status": "completed"
    },
    "tags": []
   },
   "outputs": [],
   "source": [
    "!pip install --no-deps '../input/timm-package/timm-0.1.26-py3-none-any.whl' > /dev/null\n",
    "!pip install --no-deps '../input/pycocotools/pycocotools-2.0-cp37-cp37m-linux_x86_64.whl' > /dev/null"
   ]
  },
  {
   "cell_type": "code",
   "execution_count": 2,
   "metadata": {
    "execution": {
     "iopub.execute_input": "2020-10-11T18:58:42.295098Z",
     "iopub.status.busy": "2020-10-11T18:58:42.294028Z",
     "iopub.status.idle": "2020-10-11T18:58:42.296871Z",
     "shell.execute_reply": "2020-10-11T18:58:42.296123Z"
    },
    "papermill": {
     "duration": 0.051895,
     "end_time": "2020-10-11T18:58:42.296984",
     "exception": false,
     "start_time": "2020-10-11T18:58:42.245089",
     "status": "completed"
    },
    "tags": []
   },
   "outputs": [],
   "source": [
    "import sys\n",
    "sys.path.insert(0, \"../input/timm-efficientdet-pytorch\")\n",
    "sys.path.insert(0, \"../input/omegaconf\")"
   ]
  },
  {
   "cell_type": "code",
   "execution_count": 3,
   "metadata": {
    "execution": {
     "iopub.execute_input": "2020-10-11T18:58:42.396935Z",
     "iopub.status.busy": "2020-10-11T18:58:42.396133Z",
     "iopub.status.idle": "2020-10-11T18:58:46.420959Z",
     "shell.execute_reply": "2020-10-11T18:58:46.419884Z"
    },
    "papermill": {
     "duration": 4.080354,
     "end_time": "2020-10-11T18:58:46.421092",
     "exception": false,
     "start_time": "2020-10-11T18:58:42.340738",
     "status": "completed"
    },
    "tags": []
   },
   "outputs": [],
   "source": [
    "import pandas as pd\n",
    "from sklearn.model_selection import StratifiedKFold\n",
    "from sklearn import preprocessing\n",
    "import numpy as np\n",
    "\n",
    "import torch\n",
    "import os\n",
    "from datetime import datetime\n",
    "import time\n",
    "import random\n",
    "import cv2\n",
    "import pandas as pd\n",
    "import numpy as np\n",
    "import albumentations as A\n",
    "import matplotlib.pyplot as plt\n",
    "from albumentations.pytorch.transforms import ToTensorV2\n",
    "from sklearn.model_selection import StratifiedKFold\n",
    "from torch.utils.data import Dataset,DataLoader\n",
    "from torch.utils.data.sampler import SequentialSampler, RandomSampler\n",
    "from glob import glob\n",
    "\n",
    "SEED = 42\n",
    "\n",
    "def seed_everything(seed):\n",
    "    random.seed(seed)\n",
    "    os.environ['PYTHONHASHSEED'] = str(seed)\n",
    "    np.random.seed(seed)\n",
    "    torch.manual_seed(seed)\n",
    "    torch.cuda.manual_seed(seed)\n",
    "    torch.backends.cudnn.deterministic = True\n",
    "    torch.backends.cudnn.benchmark = True\n",
    "\n",
    "seed_everything(SEED)"
   ]
  },
  {
   "cell_type": "markdown",
   "metadata": {
    "papermill": {
     "duration": 0.042876,
     "end_time": "2020-10-11T18:58:46.507553",
     "exception": false,
     "start_time": "2020-10-11T18:58:46.464677",
     "status": "completed"
    },
    "tags": []
   },
   "source": [
    "## EDA"
   ]
  },
  {
   "cell_type": "code",
   "execution_count": 4,
   "metadata": {
    "_cell_guid": "79c7e3d0-c299-4dcb-8224-4455121ee9b0",
    "_uuid": "d629ff2d2480ee46fbb7e2d37f6b5fab8052498a",
    "execution": {
     "iopub.execute_input": "2020-10-11T18:58:46.604318Z",
     "iopub.status.busy": "2020-10-11T18:58:46.603551Z",
     "iopub.status.idle": "2020-10-11T18:58:46.677202Z",
     "shell.execute_reply": "2020-10-11T18:58:46.677783Z"
    },
    "papermill": {
     "duration": 0.125027,
     "end_time": "2020-10-11T18:58:46.677935",
     "exception": false,
     "start_time": "2020-10-11T18:58:46.552908",
     "status": "completed"
    },
    "tags": []
   },
   "outputs": [
    {
     "data": {
      "text/html": [
       "<div>\n",
       "<style scoped>\n",
       "    .dataframe tbody tr th:only-of-type {\n",
       "        vertical-align: middle;\n",
       "    }\n",
       "\n",
       "    .dataframe tbody tr th {\n",
       "        vertical-align: top;\n",
       "    }\n",
       "\n",
       "    .dataframe thead th {\n",
       "        text-align: right;\n",
       "    }\n",
       "</style>\n",
       "<table border=\"1\" class=\"dataframe\">\n",
       "  <thead>\n",
       "    <tr style=\"text-align: right;\">\n",
       "      <th></th>\n",
       "      <th>image_name</th>\n",
       "      <th>width</th>\n",
       "      <th>height</th>\n",
       "      <th>source</th>\n",
       "      <th>class</th>\n",
       "      <th>xmin</th>\n",
       "      <th>ymin</th>\n",
       "      <th>xmax</th>\n",
       "      <th>ymax</th>\n",
       "    </tr>\n",
       "  </thead>\n",
       "  <tbody>\n",
       "    <tr>\n",
       "      <th>0</th>\n",
       "      <td>Pias (263).jpg</td>\n",
       "      <td>854.0</td>\n",
       "      <td>480.0</td>\n",
       "      <td>Unknown</td>\n",
       "      <td>minivan</td>\n",
       "      <td>514.0</td>\n",
       "      <td>254.0</td>\n",
       "      <td>854.0</td>\n",
       "      <td>467.0</td>\n",
       "    </tr>\n",
       "    <tr>\n",
       "      <th>1</th>\n",
       "      <td>Pias (263).jpg</td>\n",
       "      <td>854.0</td>\n",
       "      <td>480.0</td>\n",
       "      <td>Unknown</td>\n",
       "      <td>motorbike</td>\n",
       "      <td>429.0</td>\n",
       "      <td>397.0</td>\n",
       "      <td>563.0</td>\n",
       "      <td>480.0</td>\n",
       "    </tr>\n",
       "    <tr>\n",
       "      <th>2</th>\n",
       "      <td>Pias (263).jpg</td>\n",
       "      <td>854.0</td>\n",
       "      <td>480.0</td>\n",
       "      <td>Unknown</td>\n",
       "      <td>motorbike</td>\n",
       "      <td>283.0</td>\n",
       "      <td>286.0</td>\n",
       "      <td>367.0</td>\n",
       "      <td>413.0</td>\n",
       "    </tr>\n",
       "    <tr>\n",
       "      <th>3</th>\n",
       "      <td>Pias (263).jpg</td>\n",
       "      <td>854.0</td>\n",
       "      <td>480.0</td>\n",
       "      <td>Unknown</td>\n",
       "      <td>motorbike</td>\n",
       "      <td>1.0</td>\n",
       "      <td>295.0</td>\n",
       "      <td>71.0</td>\n",
       "      <td>427.0</td>\n",
       "    </tr>\n",
       "    <tr>\n",
       "      <th>4</th>\n",
       "      <td>Pias (263).jpg</td>\n",
       "      <td>854.0</td>\n",
       "      <td>480.0</td>\n",
       "      <td>Unknown</td>\n",
       "      <td>motorbike</td>\n",
       "      <td>41.0</td>\n",
       "      <td>285.0</td>\n",
       "      <td>108.0</td>\n",
       "      <td>345.0</td>\n",
       "    </tr>\n",
       "  </tbody>\n",
       "</table>\n",
       "</div>"
      ],
      "text/plain": [
       "       image_name  width  height   source      class   xmin   ymin   xmax  \\\n",
       "0  Pias (263).jpg  854.0   480.0  Unknown    minivan  514.0  254.0  854.0   \n",
       "1  Pias (263).jpg  854.0   480.0  Unknown  motorbike  429.0  397.0  563.0   \n",
       "2  Pias (263).jpg  854.0   480.0  Unknown  motorbike  283.0  286.0  367.0   \n",
       "3  Pias (263).jpg  854.0   480.0  Unknown  motorbike    1.0  295.0   71.0   \n",
       "4  Pias (263).jpg  854.0   480.0  Unknown  motorbike   41.0  285.0  108.0   \n",
       "\n",
       "    ymax  \n",
       "0  467.0  \n",
       "1  480.0  \n",
       "2  413.0  \n",
       "3  427.0  \n",
       "4  345.0  "
      ]
     },
     "execution_count": 4,
     "metadata": {},
     "output_type": "execute_result"
    }
   ],
   "source": [
    "df = pd.read_csv('../input/dai-csv/EDA__DAI.csv')\n",
    "df.head(5)"
   ]
  },
  {
   "cell_type": "code",
   "execution_count": 5,
   "metadata": {
    "execution": {
     "iopub.execute_input": "2020-10-11T18:58:46.798485Z",
     "iopub.status.busy": "2020-10-11T18:58:46.797479Z",
     "iopub.status.idle": "2020-10-11T18:58:46.800773Z",
     "shell.execute_reply": "2020-10-11T18:58:46.800278Z"
    },
    "papermill": {
     "duration": 0.065236,
     "end_time": "2020-10-11T18:58:46.800873",
     "exception": false,
     "start_time": "2020-10-11T18:58:46.735637",
     "status": "completed"
    },
    "tags": []
   },
   "outputs": [],
   "source": [
    "df_new = df[['image_name']].copy()"
   ]
  },
  {
   "cell_type": "code",
   "execution_count": 6,
   "metadata": {
    "execution": {
     "iopub.execute_input": "2020-10-11T18:58:46.896128Z",
     "iopub.status.busy": "2020-10-11T18:58:46.895424Z",
     "iopub.status.idle": "2020-10-11T18:58:46.899623Z",
     "shell.execute_reply": "2020-10-11T18:58:46.900088Z"
    },
    "papermill": {
     "duration": 0.054214,
     "end_time": "2020-10-11T18:58:46.900234",
     "exception": false,
     "start_time": "2020-10-11T18:58:46.846020",
     "status": "completed"
    },
    "tags": []
   },
   "outputs": [],
   "source": [
    "df_new.rename(columns={'image_name':'image_id'} , inplace=True)"
   ]
  },
  {
   "cell_type": "code",
   "execution_count": 7,
   "metadata": {
    "execution": {
     "iopub.execute_input": "2020-10-11T18:58:47.001301Z",
     "iopub.status.busy": "2020-10-11T18:58:47.000480Z",
     "iopub.status.idle": "2020-10-11T18:58:47.003910Z",
     "shell.execute_reply": "2020-10-11T18:58:47.003381Z"
    },
    "papermill": {
     "duration": 0.057293,
     "end_time": "2020-10-11T18:58:47.004015",
     "exception": false,
     "start_time": "2020-10-11T18:58:46.946722",
     "status": "completed"
    },
    "tags": []
   },
   "outputs": [],
   "source": [
    "df_new.loc[:,'width'] = df[['width']].copy()"
   ]
  },
  {
   "cell_type": "code",
   "execution_count": 8,
   "metadata": {
    "execution": {
     "iopub.execute_input": "2020-10-11T18:58:47.106538Z",
     "iopub.status.busy": "2020-10-11T18:58:47.105532Z",
     "iopub.status.idle": "2020-10-11T18:58:47.119957Z",
     "shell.execute_reply": "2020-10-11T18:58:47.119299Z"
    },
    "papermill": {
     "duration": 0.069591,
     "end_time": "2020-10-11T18:58:47.120081",
     "exception": false,
     "start_time": "2020-10-11T18:58:47.050490",
     "status": "completed"
    },
    "tags": []
   },
   "outputs": [],
   "source": [
    "df_new.loc[:,'height'] = df[['height']].copy()\n",
    "df_new.loc[:,'xmin'] = df[['xmin']].copy()\n",
    "df_new.loc[:,'ymin'] = df[['ymin']].copy()\n",
    "df_new.loc[:,'xmax'] = df[['xmax']].copy()\n",
    "df_new.loc[:,'ymax'] = df[['ymax']].copy()"
   ]
  },
  {
   "cell_type": "code",
   "execution_count": 9,
   "metadata": {
    "execution": {
     "iopub.execute_input": "2020-10-11T18:58:47.220580Z",
     "iopub.status.busy": "2020-10-11T18:58:47.219513Z",
     "iopub.status.idle": "2020-10-11T18:58:47.230347Z",
     "shell.execute_reply": "2020-10-11T18:58:47.229670Z"
    },
    "papermill": {
     "duration": 0.064434,
     "end_time": "2020-10-11T18:58:47.230495",
     "exception": false,
     "start_time": "2020-10-11T18:58:47.166061",
     "status": "completed"
    },
    "tags": []
   },
   "outputs": [
    {
     "data": {
      "text/html": [
       "<div>\n",
       "<style scoped>\n",
       "    .dataframe tbody tr th:only-of-type {\n",
       "        vertical-align: middle;\n",
       "    }\n",
       "\n",
       "    .dataframe tbody tr th {\n",
       "        vertical-align: top;\n",
       "    }\n",
       "\n",
       "    .dataframe thead th {\n",
       "        text-align: right;\n",
       "    }\n",
       "</style>\n",
       "<table border=\"1\" class=\"dataframe\">\n",
       "  <thead>\n",
       "    <tr style=\"text-align: right;\">\n",
       "      <th></th>\n",
       "      <th>image_id</th>\n",
       "      <th>width</th>\n",
       "      <th>height</th>\n",
       "      <th>xmin</th>\n",
       "      <th>ymin</th>\n",
       "      <th>xmax</th>\n",
       "      <th>ymax</th>\n",
       "    </tr>\n",
       "  </thead>\n",
       "  <tbody>\n",
       "    <tr>\n",
       "      <th>0</th>\n",
       "      <td>Pias (263).jpg</td>\n",
       "      <td>854.0</td>\n",
       "      <td>480.0</td>\n",
       "      <td>514.0</td>\n",
       "      <td>254.0</td>\n",
       "      <td>854.0</td>\n",
       "      <td>467.0</td>\n",
       "    </tr>\n",
       "    <tr>\n",
       "      <th>1</th>\n",
       "      <td>Pias (263).jpg</td>\n",
       "      <td>854.0</td>\n",
       "      <td>480.0</td>\n",
       "      <td>429.0</td>\n",
       "      <td>397.0</td>\n",
       "      <td>563.0</td>\n",
       "      <td>480.0</td>\n",
       "    </tr>\n",
       "    <tr>\n",
       "      <th>2</th>\n",
       "      <td>Pias (263).jpg</td>\n",
       "      <td>854.0</td>\n",
       "      <td>480.0</td>\n",
       "      <td>283.0</td>\n",
       "      <td>286.0</td>\n",
       "      <td>367.0</td>\n",
       "      <td>413.0</td>\n",
       "    </tr>\n",
       "    <tr>\n",
       "      <th>3</th>\n",
       "      <td>Pias (263).jpg</td>\n",
       "      <td>854.0</td>\n",
       "      <td>480.0</td>\n",
       "      <td>1.0</td>\n",
       "      <td>295.0</td>\n",
       "      <td>71.0</td>\n",
       "      <td>427.0</td>\n",
       "    </tr>\n",
       "    <tr>\n",
       "      <th>4</th>\n",
       "      <td>Pias (263).jpg</td>\n",
       "      <td>854.0</td>\n",
       "      <td>480.0</td>\n",
       "      <td>41.0</td>\n",
       "      <td>285.0</td>\n",
       "      <td>108.0</td>\n",
       "      <td>345.0</td>\n",
       "    </tr>\n",
       "  </tbody>\n",
       "</table>\n",
       "</div>"
      ],
      "text/plain": [
       "         image_id  width  height   xmin   ymin   xmax   ymax\n",
       "0  Pias (263).jpg  854.0   480.0  514.0  254.0  854.0  467.0\n",
       "1  Pias (263).jpg  854.0   480.0  429.0  397.0  563.0  480.0\n",
       "2  Pias (263).jpg  854.0   480.0  283.0  286.0  367.0  413.0\n",
       "3  Pias (263).jpg  854.0   480.0    1.0  295.0   71.0  427.0\n",
       "4  Pias (263).jpg  854.0   480.0   41.0  285.0  108.0  345.0"
      ]
     },
     "execution_count": 9,
     "metadata": {},
     "output_type": "execute_result"
    }
   ],
   "source": [
    "df_new.head(5)"
   ]
  },
  {
   "cell_type": "code",
   "execution_count": 10,
   "metadata": {
    "execution": {
     "iopub.execute_input": "2020-10-11T18:58:47.334248Z",
     "iopub.status.busy": "2020-10-11T18:58:47.333638Z",
     "iopub.status.idle": "2020-10-11T18:58:47.364412Z",
     "shell.execute_reply": "2020-10-11T18:58:47.365026Z"
    },
    "papermill": {
     "duration": 0.085109,
     "end_time": "2020-10-11T18:58:47.365159",
     "exception": false,
     "start_time": "2020-10-11T18:58:47.280050",
     "status": "completed"
    },
    "tags": []
   },
   "outputs": [],
   "source": [
    "df_new.loc[:,'w'] = df_new.loc[:,'xmax'] - df_new.loc[:,'xmin']\n",
    "df_new.loc[:,'h'] = df_new.loc[:,'ymax'] - df_new.loc[:,'ymin']"
   ]
  },
  {
   "cell_type": "code",
   "execution_count": 11,
   "metadata": {
    "execution": {
     "iopub.execute_input": "2020-10-11T18:58:47.461218Z",
     "iopub.status.busy": "2020-10-11T18:58:47.460633Z",
     "iopub.status.idle": "2020-10-11T18:58:47.464918Z",
     "shell.execute_reply": "2020-10-11T18:58:47.464145Z"
    },
    "papermill": {
     "duration": 0.052725,
     "end_time": "2020-10-11T18:58:47.465028",
     "exception": false,
     "start_time": "2020-10-11T18:58:47.412303",
     "status": "completed"
    },
    "tags": []
   },
   "outputs": [],
   "source": [
    "marking = df_new"
   ]
  },
  {
   "cell_type": "code",
   "execution_count": 12,
   "metadata": {
    "execution": {
     "iopub.execute_input": "2020-10-11T18:58:47.580815Z",
     "iopub.status.busy": "2020-10-11T18:58:47.579086Z",
     "iopub.status.idle": "2020-10-11T18:58:47.584000Z",
     "shell.execute_reply": "2020-10-11T18:58:47.584610Z"
    },
    "papermill": {
     "duration": 0.074249,
     "end_time": "2020-10-11T18:58:47.584749",
     "exception": false,
     "start_time": "2020-10-11T18:58:47.510500",
     "status": "completed"
    },
    "tags": []
   },
   "outputs": [
    {
     "data": {
      "text/html": [
       "<div>\n",
       "<style scoped>\n",
       "    .dataframe tbody tr th:only-of-type {\n",
       "        vertical-align: middle;\n",
       "    }\n",
       "\n",
       "    .dataframe tbody tr th {\n",
       "        vertical-align: top;\n",
       "    }\n",
       "\n",
       "    .dataframe thead th {\n",
       "        text-align: right;\n",
       "    }\n",
       "</style>\n",
       "<table border=\"1\" class=\"dataframe\">\n",
       "  <thead>\n",
       "    <tr style=\"text-align: right;\">\n",
       "      <th></th>\n",
       "      <th>image_id</th>\n",
       "      <th>width</th>\n",
       "      <th>height</th>\n",
       "      <th>xmin</th>\n",
       "      <th>ymin</th>\n",
       "      <th>xmax</th>\n",
       "      <th>ymax</th>\n",
       "      <th>w</th>\n",
       "      <th>h</th>\n",
       "    </tr>\n",
       "  </thead>\n",
       "  <tbody>\n",
       "    <tr>\n",
       "      <th>0</th>\n",
       "      <td>Pias (263).jpg</td>\n",
       "      <td>854.0</td>\n",
       "      <td>480.0</td>\n",
       "      <td>514.0</td>\n",
       "      <td>254.0</td>\n",
       "      <td>854.0</td>\n",
       "      <td>467.0</td>\n",
       "      <td>340.0</td>\n",
       "      <td>213.0</td>\n",
       "    </tr>\n",
       "    <tr>\n",
       "      <th>1</th>\n",
       "      <td>Pias (263).jpg</td>\n",
       "      <td>854.0</td>\n",
       "      <td>480.0</td>\n",
       "      <td>429.0</td>\n",
       "      <td>397.0</td>\n",
       "      <td>563.0</td>\n",
       "      <td>480.0</td>\n",
       "      <td>134.0</td>\n",
       "      <td>83.0</td>\n",
       "    </tr>\n",
       "    <tr>\n",
       "      <th>2</th>\n",
       "      <td>Pias (263).jpg</td>\n",
       "      <td>854.0</td>\n",
       "      <td>480.0</td>\n",
       "      <td>283.0</td>\n",
       "      <td>286.0</td>\n",
       "      <td>367.0</td>\n",
       "      <td>413.0</td>\n",
       "      <td>84.0</td>\n",
       "      <td>127.0</td>\n",
       "    </tr>\n",
       "    <tr>\n",
       "      <th>3</th>\n",
       "      <td>Pias (263).jpg</td>\n",
       "      <td>854.0</td>\n",
       "      <td>480.0</td>\n",
       "      <td>1.0</td>\n",
       "      <td>295.0</td>\n",
       "      <td>71.0</td>\n",
       "      <td>427.0</td>\n",
       "      <td>70.0</td>\n",
       "      <td>132.0</td>\n",
       "    </tr>\n",
       "    <tr>\n",
       "      <th>4</th>\n",
       "      <td>Pias (263).jpg</td>\n",
       "      <td>854.0</td>\n",
       "      <td>480.0</td>\n",
       "      <td>41.0</td>\n",
       "      <td>285.0</td>\n",
       "      <td>108.0</td>\n",
       "      <td>345.0</td>\n",
       "      <td>67.0</td>\n",
       "      <td>60.0</td>\n",
       "    </tr>\n",
       "    <tr>\n",
       "      <th>...</th>\n",
       "      <td>...</td>\n",
       "      <td>...</td>\n",
       "      <td>...</td>\n",
       "      <td>...</td>\n",
       "      <td>...</td>\n",
       "      <td>...</td>\n",
       "      <td>...</td>\n",
       "      <td>...</td>\n",
       "      <td>...</td>\n",
       "    </tr>\n",
       "    <tr>\n",
       "      <th>24363</th>\n",
       "      <td>Navid_609.jpg</td>\n",
       "      <td>4096.0</td>\n",
       "      <td>2304.0</td>\n",
       "      <td>1436.0</td>\n",
       "      <td>1174.0</td>\n",
       "      <td>1543.0</td>\n",
       "      <td>1338.0</td>\n",
       "      <td>107.0</td>\n",
       "      <td>164.0</td>\n",
       "    </tr>\n",
       "    <tr>\n",
       "      <th>24364</th>\n",
       "      <td>Navid_609.jpg</td>\n",
       "      <td>4096.0</td>\n",
       "      <td>2304.0</td>\n",
       "      <td>1385.0</td>\n",
       "      <td>1181.0</td>\n",
       "      <td>1432.0</td>\n",
       "      <td>1336.0</td>\n",
       "      <td>47.0</td>\n",
       "      <td>155.0</td>\n",
       "    </tr>\n",
       "    <tr>\n",
       "      <th>24365</th>\n",
       "      <td>Navid_609.jpg</td>\n",
       "      <td>4096.0</td>\n",
       "      <td>2304.0</td>\n",
       "      <td>1059.0</td>\n",
       "      <td>1206.0</td>\n",
       "      <td>1295.0</td>\n",
       "      <td>1354.0</td>\n",
       "      <td>236.0</td>\n",
       "      <td>148.0</td>\n",
       "    </tr>\n",
       "    <tr>\n",
       "      <th>24366</th>\n",
       "      <td>Navid_609.jpg</td>\n",
       "      <td>4096.0</td>\n",
       "      <td>2304.0</td>\n",
       "      <td>277.0</td>\n",
       "      <td>1167.0</td>\n",
       "      <td>686.0</td>\n",
       "      <td>1563.0</td>\n",
       "      <td>409.0</td>\n",
       "      <td>396.0</td>\n",
       "    </tr>\n",
       "    <tr>\n",
       "      <th>24367</th>\n",
       "      <td>Navid_609.jpg</td>\n",
       "      <td>4096.0</td>\n",
       "      <td>2304.0</td>\n",
       "      <td>1538.0</td>\n",
       "      <td>1228.0</td>\n",
       "      <td>1572.0</td>\n",
       "      <td>1270.0</td>\n",
       "      <td>34.0</td>\n",
       "      <td>42.0</td>\n",
       "    </tr>\n",
       "  </tbody>\n",
       "</table>\n",
       "<p>24368 rows × 9 columns</p>\n",
       "</div>"
      ],
      "text/plain": [
       "             image_id   width  height    xmin    ymin    xmax    ymax      w  \\\n",
       "0      Pias (263).jpg   854.0   480.0   514.0   254.0   854.0   467.0  340.0   \n",
       "1      Pias (263).jpg   854.0   480.0   429.0   397.0   563.0   480.0  134.0   \n",
       "2      Pias (263).jpg   854.0   480.0   283.0   286.0   367.0   413.0   84.0   \n",
       "3      Pias (263).jpg   854.0   480.0     1.0   295.0    71.0   427.0   70.0   \n",
       "4      Pias (263).jpg   854.0   480.0    41.0   285.0   108.0   345.0   67.0   \n",
       "...               ...     ...     ...     ...     ...     ...     ...    ...   \n",
       "24363   Navid_609.jpg  4096.0  2304.0  1436.0  1174.0  1543.0  1338.0  107.0   \n",
       "24364   Navid_609.jpg  4096.0  2304.0  1385.0  1181.0  1432.0  1336.0   47.0   \n",
       "24365   Navid_609.jpg  4096.0  2304.0  1059.0  1206.0  1295.0  1354.0  236.0   \n",
       "24366   Navid_609.jpg  4096.0  2304.0   277.0  1167.0   686.0  1563.0  409.0   \n",
       "24367   Navid_609.jpg  4096.0  2304.0  1538.0  1228.0  1572.0  1270.0   34.0   \n",
       "\n",
       "           h  \n",
       "0      213.0  \n",
       "1       83.0  \n",
       "2      127.0  \n",
       "3      132.0  \n",
       "4       60.0  \n",
       "...      ...  \n",
       "24363  164.0  \n",
       "24364  155.0  \n",
       "24365  148.0  \n",
       "24366  396.0  \n",
       "24367   42.0  \n",
       "\n",
       "[24368 rows x 9 columns]"
      ]
     },
     "execution_count": 12,
     "metadata": {},
     "output_type": "execute_result"
    }
   ],
   "source": [
    "marking"
   ]
  },
  {
   "cell_type": "code",
   "execution_count": 13,
   "metadata": {
    "execution": {
     "iopub.execute_input": "2020-10-11T18:58:47.696038Z",
     "iopub.status.busy": "2020-10-11T18:58:47.694393Z",
     "iopub.status.idle": "2020-10-11T18:58:47.696852Z",
     "shell.execute_reply": "2020-10-11T18:58:47.697346Z"
    },
    "papermill": {
     "duration": 0.059704,
     "end_time": "2020-10-11T18:58:47.697473",
     "exception": false,
     "start_time": "2020-10-11T18:58:47.637769",
     "status": "completed"
    },
    "tags": []
   },
   "outputs": [],
   "source": [
    "marking.rename(columns={'xmin':'x','ymin':'y'},inplace=True)"
   ]
  },
  {
   "cell_type": "code",
   "execution_count": 14,
   "metadata": {
    "execution": {
     "iopub.execute_input": "2020-10-11T18:58:47.801618Z",
     "iopub.status.busy": "2020-10-11T18:58:47.800915Z",
     "iopub.status.idle": "2020-10-11T18:58:47.805031Z",
     "shell.execute_reply": "2020-10-11T18:58:47.805567Z"
    },
    "papermill": {
     "duration": 0.060958,
     "end_time": "2020-10-11T18:58:47.805700",
     "exception": false,
     "start_time": "2020-10-11T18:58:47.744742",
     "status": "completed"
    },
    "tags": []
   },
   "outputs": [],
   "source": [
    "marking.drop(columns=['xmax','ymax'],inplace=True)"
   ]
  },
  {
   "cell_type": "code",
   "execution_count": 15,
   "metadata": {
    "execution": {
     "iopub.execute_input": "2020-10-11T18:58:47.909951Z",
     "iopub.status.busy": "2020-10-11T18:58:47.907599Z",
     "iopub.status.idle": "2020-10-11T18:58:47.915773Z",
     "shell.execute_reply": "2020-10-11T18:58:47.915237Z"
    },
    "papermill": {
     "duration": 0.061404,
     "end_time": "2020-10-11T18:58:47.915869",
     "exception": false,
     "start_time": "2020-10-11T18:58:47.854465",
     "status": "completed"
    },
    "tags": []
   },
   "outputs": [],
   "source": [
    "marking.loc[:,'class'] =df[['class']].copy()"
   ]
  },
  {
   "cell_type": "code",
   "execution_count": 16,
   "metadata": {
    "execution": {
     "iopub.execute_input": "2020-10-11T18:58:48.029304Z",
     "iopub.status.busy": "2020-10-11T18:58:48.028257Z",
     "iopub.status.idle": "2020-10-11T18:58:48.033071Z",
     "shell.execute_reply": "2020-10-11T18:58:48.032378Z"
    },
    "papermill": {
     "duration": 0.068594,
     "end_time": "2020-10-11T18:58:48.033195",
     "exception": false,
     "start_time": "2020-10-11T18:58:47.964601",
     "status": "completed"
    },
    "tags": []
   },
   "outputs": [
    {
     "data": {
      "text/html": [
       "<div>\n",
       "<style scoped>\n",
       "    .dataframe tbody tr th:only-of-type {\n",
       "        vertical-align: middle;\n",
       "    }\n",
       "\n",
       "    .dataframe tbody tr th {\n",
       "        vertical-align: top;\n",
       "    }\n",
       "\n",
       "    .dataframe thead th {\n",
       "        text-align: right;\n",
       "    }\n",
       "</style>\n",
       "<table border=\"1\" class=\"dataframe\">\n",
       "  <thead>\n",
       "    <tr style=\"text-align: right;\">\n",
       "      <th></th>\n",
       "      <th>image_id</th>\n",
       "      <th>width</th>\n",
       "      <th>height</th>\n",
       "      <th>x</th>\n",
       "      <th>y</th>\n",
       "      <th>w</th>\n",
       "      <th>h</th>\n",
       "      <th>class</th>\n",
       "    </tr>\n",
       "  </thead>\n",
       "  <tbody>\n",
       "    <tr>\n",
       "      <th>0</th>\n",
       "      <td>Pias (263).jpg</td>\n",
       "      <td>854.0</td>\n",
       "      <td>480.0</td>\n",
       "      <td>514.0</td>\n",
       "      <td>254.0</td>\n",
       "      <td>340.0</td>\n",
       "      <td>213.0</td>\n",
       "      <td>minivan</td>\n",
       "    </tr>\n",
       "    <tr>\n",
       "      <th>1</th>\n",
       "      <td>Pias (263).jpg</td>\n",
       "      <td>854.0</td>\n",
       "      <td>480.0</td>\n",
       "      <td>429.0</td>\n",
       "      <td>397.0</td>\n",
       "      <td>134.0</td>\n",
       "      <td>83.0</td>\n",
       "      <td>motorbike</td>\n",
       "    </tr>\n",
       "    <tr>\n",
       "      <th>2</th>\n",
       "      <td>Pias (263).jpg</td>\n",
       "      <td>854.0</td>\n",
       "      <td>480.0</td>\n",
       "      <td>283.0</td>\n",
       "      <td>286.0</td>\n",
       "      <td>84.0</td>\n",
       "      <td>127.0</td>\n",
       "      <td>motorbike</td>\n",
       "    </tr>\n",
       "    <tr>\n",
       "      <th>3</th>\n",
       "      <td>Pias (263).jpg</td>\n",
       "      <td>854.0</td>\n",
       "      <td>480.0</td>\n",
       "      <td>1.0</td>\n",
       "      <td>295.0</td>\n",
       "      <td>70.0</td>\n",
       "      <td>132.0</td>\n",
       "      <td>motorbike</td>\n",
       "    </tr>\n",
       "    <tr>\n",
       "      <th>4</th>\n",
       "      <td>Pias (263).jpg</td>\n",
       "      <td>854.0</td>\n",
       "      <td>480.0</td>\n",
       "      <td>41.0</td>\n",
       "      <td>285.0</td>\n",
       "      <td>67.0</td>\n",
       "      <td>60.0</td>\n",
       "      <td>motorbike</td>\n",
       "    </tr>\n",
       "  </tbody>\n",
       "</table>\n",
       "</div>"
      ],
      "text/plain": [
       "         image_id  width  height      x      y      w      h      class\n",
       "0  Pias (263).jpg  854.0   480.0  514.0  254.0  340.0  213.0    minivan\n",
       "1  Pias (263).jpg  854.0   480.0  429.0  397.0  134.0   83.0  motorbike\n",
       "2  Pias (263).jpg  854.0   480.0  283.0  286.0   84.0  127.0  motorbike\n",
       "3  Pias (263).jpg  854.0   480.0    1.0  295.0   70.0  132.0  motorbike\n",
       "4  Pias (263).jpg  854.0   480.0   41.0  285.0   67.0   60.0  motorbike"
      ]
     },
     "execution_count": 16,
     "metadata": {},
     "output_type": "execute_result"
    }
   ],
   "source": [
    "marking.head(5)"
   ]
  },
  {
   "cell_type": "markdown",
   "metadata": {
    "papermill": {
     "duration": 0.052613,
     "end_time": "2020-10-11T18:58:48.142322",
     "exception": false,
     "start_time": "2020-10-11T18:58:48.089709",
     "status": "completed"
    },
    "tags": []
   },
   "source": [
    "## Data Spilitting"
   ]
  },
  {
   "cell_type": "code",
   "execution_count": 17,
   "metadata": {
    "execution": {
     "iopub.execute_input": "2020-10-11T18:58:48.244114Z",
     "iopub.status.busy": "2020-10-11T18:58:48.243303Z",
     "iopub.status.idle": "2020-10-11T18:58:48.246453Z",
     "shell.execute_reply": "2020-10-11T18:58:48.245935Z"
    },
    "papermill": {
     "duration": 0.055625,
     "end_time": "2020-10-11T18:58:48.246559",
     "exception": false,
     "start_time": "2020-10-11T18:58:48.190934",
     "status": "completed"
    },
    "tags": []
   },
   "outputs": [],
   "source": [
    "skf = StratifiedKFold(n_splits=5, shuffle=True, random_state=42)"
   ]
  },
  {
   "cell_type": "code",
   "execution_count": 18,
   "metadata": {
    "execution": {
     "iopub.execute_input": "2020-10-11T18:58:48.362815Z",
     "iopub.status.busy": "2020-10-11T18:58:48.361839Z",
     "iopub.status.idle": "2020-10-11T18:58:48.405880Z",
     "shell.execute_reply": "2020-10-11T18:58:48.405198Z"
    },
    "papermill": {
     "duration": 0.10992,
     "end_time": "2020-10-11T18:58:48.406008",
     "exception": false,
     "start_time": "2020-10-11T18:58:48.296088",
     "status": "completed"
    },
    "tags": []
   },
   "outputs": [
    {
     "name": "stderr",
     "output_type": "stream",
     "text": [
      "/opt/conda/lib/python3.7/site-packages/sklearn/model_selection/_split.py:672: UserWarning: The least populated class in y has only 1 members, which is less than n_splits=5.\n",
      "  % (min_groups, self.n_splits)), UserWarning)\n"
     ]
    }
   ],
   "source": [
    "df_folds = marking[['image_id']].copy()\n",
    "df_folds.loc[:, 'bbox_count'] = 1\n",
    "df_folds = df_folds.groupby('image_id').count()\n",
    "df_folds.loc[:, 'stratify_group'] = np.char.add(\n",
    "    'stratify',\n",
    "    df_folds['bbox_count'].apply(lambda x: f'_{x // 5}').values.astype(str)\n",
    ")\n",
    "df_folds.loc[:, 'fold'] = 0\n",
    "for fold_number, (train_index, val_index) in enumerate(skf.split(X=df_folds.index, y=df_folds['stratify_group'])):\n",
    "    df_folds.loc[df_folds.iloc[val_index].index, 'fold'] = fold_number"
   ]
  },
  {
   "cell_type": "code",
   "execution_count": 19,
   "metadata": {
    "execution": {
     "iopub.execute_input": "2020-10-11T18:58:48.506655Z",
     "iopub.status.busy": "2020-10-11T18:58:48.505842Z",
     "iopub.status.idle": "2020-10-11T18:58:48.768106Z",
     "shell.execute_reply": "2020-10-11T18:58:48.767130Z"
    },
    "papermill": {
     "duration": 0.313641,
     "end_time": "2020-10-11T18:58:48.768277",
     "exception": false,
     "start_time": "2020-10-11T18:58:48.454636",
     "status": "completed"
    },
    "tags": []
   },
   "outputs": [],
   "source": [
    "df_folds.to_csv('Stratified__bbox.csv' , index=True)"
   ]
  },
  {
   "cell_type": "code",
   "execution_count": 20,
   "metadata": {
    "execution": {
     "iopub.execute_input": "2020-10-11T18:58:48.877497Z",
     "iopub.status.busy": "2020-10-11T18:58:48.876470Z",
     "iopub.status.idle": "2020-10-11T18:58:48.881700Z",
     "shell.execute_reply": "2020-10-11T18:58:48.881140Z"
    },
    "papermill": {
     "duration": 0.064658,
     "end_time": "2020-10-11T18:58:48.881822",
     "exception": false,
     "start_time": "2020-10-11T18:58:48.817164",
     "status": "completed"
    },
    "tags": []
   },
   "outputs": [
    {
     "data": {
      "text/html": [
       "<div>\n",
       "<style scoped>\n",
       "    .dataframe tbody tr th:only-of-type {\n",
       "        vertical-align: middle;\n",
       "    }\n",
       "\n",
       "    .dataframe tbody tr th {\n",
       "        vertical-align: top;\n",
       "    }\n",
       "\n",
       "    .dataframe thead th {\n",
       "        text-align: right;\n",
       "    }\n",
       "</style>\n",
       "<table border=\"1\" class=\"dataframe\">\n",
       "  <thead>\n",
       "    <tr style=\"text-align: right;\">\n",
       "      <th></th>\n",
       "      <th>bbox_count</th>\n",
       "      <th>stratify_group</th>\n",
       "      <th>fold</th>\n",
       "    </tr>\n",
       "    <tr>\n",
       "      <th>image_id</th>\n",
       "      <th></th>\n",
       "      <th></th>\n",
       "      <th></th>\n",
       "    </tr>\n",
       "  </thead>\n",
       "  <tbody>\n",
       "    <tr>\n",
       "      <th>01.jpg</th>\n",
       "      <td>30</td>\n",
       "      <td>stratify_6</td>\n",
       "      <td>0</td>\n",
       "    </tr>\n",
       "    <tr>\n",
       "      <th>02.jpg</th>\n",
       "      <td>31</td>\n",
       "      <td>stratify_6</td>\n",
       "      <td>0</td>\n",
       "    </tr>\n",
       "    <tr>\n",
       "      <th>03.jpg</th>\n",
       "      <td>5</td>\n",
       "      <td>stratify_1</td>\n",
       "      <td>1</td>\n",
       "    </tr>\n",
       "    <tr>\n",
       "      <th>04.jpg</th>\n",
       "      <td>15</td>\n",
       "      <td>stratify_3</td>\n",
       "      <td>1</td>\n",
       "    </tr>\n",
       "    <tr>\n",
       "      <th>05.jpg</th>\n",
       "      <td>34</td>\n",
       "      <td>stratify_6</td>\n",
       "      <td>2</td>\n",
       "    </tr>\n",
       "  </tbody>\n",
       "</table>\n",
       "</div>"
      ],
      "text/plain": [
       "          bbox_count stratify_group  fold\n",
       "image_id                                 \n",
       "01.jpg            30     stratify_6     0\n",
       "02.jpg            31     stratify_6     0\n",
       "03.jpg             5     stratify_1     1\n",
       "04.jpg            15     stratify_3     1\n",
       "05.jpg            34     stratify_6     2"
      ]
     },
     "execution_count": 20,
     "metadata": {},
     "output_type": "execute_result"
    }
   ],
   "source": [
    "df_folds.head(5)"
   ]
  },
  {
   "cell_type": "code",
   "execution_count": 21,
   "metadata": {
    "execution": {
     "iopub.execute_input": "2020-10-11T18:58:48.988000Z",
     "iopub.status.busy": "2020-10-11T18:58:48.987208Z",
     "iopub.status.idle": "2020-10-11T18:58:48.990669Z",
     "shell.execute_reply": "2020-10-11T18:58:48.991178Z"
    },
    "papermill": {
     "duration": 0.058209,
     "end_time": "2020-10-11T18:58:48.991297",
     "exception": false,
     "start_time": "2020-10-11T18:58:48.933088",
     "status": "completed"
    },
    "tags": []
   },
   "outputs": [
    {
     "data": {
      "text/plain": [
       "3002"
      ]
     },
     "execution_count": 21,
     "metadata": {},
     "output_type": "execute_result"
    }
   ],
   "source": [
    "len(df_folds.index.values)"
   ]
  },
  {
   "cell_type": "markdown",
   "metadata": {
    "papermill": {
     "duration": 0.055956,
     "end_time": "2020-10-11T18:58:49.108019",
     "exception": false,
     "start_time": "2020-10-11T18:58:49.052063",
     "status": "completed"
    },
    "tags": []
   },
   "source": [
    "## Label Encoding"
   ]
  },
  {
   "cell_type": "code",
   "execution_count": 22,
   "metadata": {
    "execution": {
     "iopub.execute_input": "2020-10-11T18:58:49.214353Z",
     "iopub.status.busy": "2020-10-11T18:58:49.213362Z",
     "iopub.status.idle": "2020-10-11T18:58:49.216537Z",
     "shell.execute_reply": "2020-10-11T18:58:49.215993Z"
    },
    "papermill": {
     "duration": 0.057446,
     "end_time": "2020-10-11T18:58:49.216643",
     "exception": false,
     "start_time": "2020-10-11T18:58:49.159197",
     "status": "completed"
    },
    "tags": []
   },
   "outputs": [],
   "source": [
    "le = preprocessing.LabelEncoder()"
   ]
  },
  {
   "cell_type": "code",
   "execution_count": 23,
   "metadata": {
    "execution": {
     "iopub.execute_input": "2020-10-11T18:58:49.324185Z",
     "iopub.status.busy": "2020-10-11T18:58:49.323473Z",
     "iopub.status.idle": "2020-10-11T18:58:49.333282Z",
     "shell.execute_reply": "2020-10-11T18:58:49.332753Z"
    },
    "papermill": {
     "duration": 0.065317,
     "end_time": "2020-10-11T18:58:49.333385",
     "exception": false,
     "start_time": "2020-10-11T18:58:49.268068",
     "status": "completed"
    },
    "tags": []
   },
   "outputs": [
    {
     "data": {
      "text/plain": [
       "LabelEncoder()"
      ]
     },
     "execution_count": 23,
     "metadata": {},
     "output_type": "execute_result"
    }
   ],
   "source": [
    "le.fit(marking['class'].values)"
   ]
  },
  {
   "cell_type": "code",
   "execution_count": 24,
   "metadata": {
    "execution": {
     "iopub.execute_input": "2020-10-11T18:58:49.449242Z",
     "iopub.status.busy": "2020-10-11T18:58:49.448539Z",
     "iopub.status.idle": "2020-10-11T18:58:49.451859Z",
     "shell.execute_reply": "2020-10-11T18:58:49.451303Z"
    },
    "papermill": {
     "duration": 0.066921,
     "end_time": "2020-10-11T18:58:49.451961",
     "exception": false,
     "start_time": "2020-10-11T18:58:49.385040",
     "status": "completed"
    },
    "tags": []
   },
   "outputs": [],
   "source": [
    "encoded_class = le.transform(marking['class'].values)"
   ]
  },
  {
   "cell_type": "code",
   "execution_count": 25,
   "metadata": {
    "execution": {
     "iopub.execute_input": "2020-10-11T18:58:49.566143Z",
     "iopub.status.busy": "2020-10-11T18:58:49.565416Z",
     "iopub.status.idle": "2020-10-11T18:58:49.569202Z",
     "shell.execute_reply": "2020-10-11T18:58:49.568615Z"
    },
    "papermill": {
     "duration": 0.066987,
     "end_time": "2020-10-11T18:58:49.569298",
     "exception": false,
     "start_time": "2020-10-11T18:58:49.502311",
     "status": "completed"
    },
    "tags": []
   },
   "outputs": [
    {
     "data": {
      "text/plain": [
       "{0, 1, 2, 3, 4, 5, 6, 7, 8, 9, 10, 11, 12, 13, 14, 15, 16, 17, 18, 19, 20}"
      ]
     },
     "execution_count": 25,
     "metadata": {},
     "output_type": "execute_result"
    }
   ],
   "source": [
    "set(encoded_class)"
   ]
  },
  {
   "cell_type": "code",
   "execution_count": 26,
   "metadata": {
    "execution": {
     "iopub.execute_input": "2020-10-11T18:58:49.677532Z",
     "iopub.status.busy": "2020-10-11T18:58:49.676485Z",
     "iopub.status.idle": "2020-10-11T18:58:49.681270Z",
     "shell.execute_reply": "2020-10-11T18:58:49.680668Z"
    },
    "papermill": {
     "duration": 0.061569,
     "end_time": "2020-10-11T18:58:49.681381",
     "exception": false,
     "start_time": "2020-10-11T18:58:49.619812",
     "status": "completed"
    },
    "tags": []
   },
   "outputs": [],
   "source": [
    "marking.loc[:,'en_class'] = encoded_class"
   ]
  },
  {
   "cell_type": "code",
   "execution_count": 27,
   "metadata": {
    "execution": {
     "iopub.execute_input": "2020-10-11T18:58:49.812360Z",
     "iopub.status.busy": "2020-10-11T18:58:49.811248Z",
     "iopub.status.idle": "2020-10-11T18:58:49.815370Z",
     "shell.execute_reply": "2020-10-11T18:58:49.815962Z"
    },
    "papermill": {
     "duration": 0.08174,
     "end_time": "2020-10-11T18:58:49.816088",
     "exception": false,
     "start_time": "2020-10-11T18:58:49.734348",
     "status": "completed"
    },
    "tags": []
   },
   "outputs": [
    {
     "data": {
      "text/html": [
       "<div>\n",
       "<style scoped>\n",
       "    .dataframe tbody tr th:only-of-type {\n",
       "        vertical-align: middle;\n",
       "    }\n",
       "\n",
       "    .dataframe tbody tr th {\n",
       "        vertical-align: top;\n",
       "    }\n",
       "\n",
       "    .dataframe thead th {\n",
       "        text-align: right;\n",
       "    }\n",
       "</style>\n",
       "<table border=\"1\" class=\"dataframe\">\n",
       "  <thead>\n",
       "    <tr style=\"text-align: right;\">\n",
       "      <th></th>\n",
       "      <th>image_id</th>\n",
       "      <th>width</th>\n",
       "      <th>height</th>\n",
       "      <th>x</th>\n",
       "      <th>y</th>\n",
       "      <th>w</th>\n",
       "      <th>h</th>\n",
       "      <th>class</th>\n",
       "      <th>en_class</th>\n",
       "    </tr>\n",
       "  </thead>\n",
       "  <tbody>\n",
       "    <tr>\n",
       "      <th>0</th>\n",
       "      <td>Pias (263).jpg</td>\n",
       "      <td>854.0</td>\n",
       "      <td>480.0</td>\n",
       "      <td>514.0</td>\n",
       "      <td>254.0</td>\n",
       "      <td>340.0</td>\n",
       "      <td>213.0</td>\n",
       "      <td>minivan</td>\n",
       "      <td>9</td>\n",
       "    </tr>\n",
       "    <tr>\n",
       "      <th>1</th>\n",
       "      <td>Pias (263).jpg</td>\n",
       "      <td>854.0</td>\n",
       "      <td>480.0</td>\n",
       "      <td>429.0</td>\n",
       "      <td>397.0</td>\n",
       "      <td>134.0</td>\n",
       "      <td>83.0</td>\n",
       "      <td>motorbike</td>\n",
       "      <td>10</td>\n",
       "    </tr>\n",
       "    <tr>\n",
       "      <th>2</th>\n",
       "      <td>Pias (263).jpg</td>\n",
       "      <td>854.0</td>\n",
       "      <td>480.0</td>\n",
       "      <td>283.0</td>\n",
       "      <td>286.0</td>\n",
       "      <td>84.0</td>\n",
       "      <td>127.0</td>\n",
       "      <td>motorbike</td>\n",
       "      <td>10</td>\n",
       "    </tr>\n",
       "    <tr>\n",
       "      <th>3</th>\n",
       "      <td>Pias (263).jpg</td>\n",
       "      <td>854.0</td>\n",
       "      <td>480.0</td>\n",
       "      <td>1.0</td>\n",
       "      <td>295.0</td>\n",
       "      <td>70.0</td>\n",
       "      <td>132.0</td>\n",
       "      <td>motorbike</td>\n",
       "      <td>10</td>\n",
       "    </tr>\n",
       "    <tr>\n",
       "      <th>4</th>\n",
       "      <td>Pias (263).jpg</td>\n",
       "      <td>854.0</td>\n",
       "      <td>480.0</td>\n",
       "      <td>41.0</td>\n",
       "      <td>285.0</td>\n",
       "      <td>67.0</td>\n",
       "      <td>60.0</td>\n",
       "      <td>motorbike</td>\n",
       "      <td>10</td>\n",
       "    </tr>\n",
       "    <tr>\n",
       "      <th>...</th>\n",
       "      <td>...</td>\n",
       "      <td>...</td>\n",
       "      <td>...</td>\n",
       "      <td>...</td>\n",
       "      <td>...</td>\n",
       "      <td>...</td>\n",
       "      <td>...</td>\n",
       "      <td>...</td>\n",
       "      <td>...</td>\n",
       "    </tr>\n",
       "    <tr>\n",
       "      <th>24363</th>\n",
       "      <td>Navid_609.jpg</td>\n",
       "      <td>4096.0</td>\n",
       "      <td>2304.0</td>\n",
       "      <td>1436.0</td>\n",
       "      <td>1174.0</td>\n",
       "      <td>107.0</td>\n",
       "      <td>164.0</td>\n",
       "      <td>rickshaw</td>\n",
       "      <td>13</td>\n",
       "    </tr>\n",
       "    <tr>\n",
       "      <th>24364</th>\n",
       "      <td>Navid_609.jpg</td>\n",
       "      <td>4096.0</td>\n",
       "      <td>2304.0</td>\n",
       "      <td>1385.0</td>\n",
       "      <td>1181.0</td>\n",
       "      <td>47.0</td>\n",
       "      <td>155.0</td>\n",
       "      <td>rickshaw</td>\n",
       "      <td>13</td>\n",
       "    </tr>\n",
       "    <tr>\n",
       "      <th>24365</th>\n",
       "      <td>Navid_609.jpg</td>\n",
       "      <td>4096.0</td>\n",
       "      <td>2304.0</td>\n",
       "      <td>1059.0</td>\n",
       "      <td>1206.0</td>\n",
       "      <td>236.0</td>\n",
       "      <td>148.0</td>\n",
       "      <td>car</td>\n",
       "      <td>5</td>\n",
       "    </tr>\n",
       "    <tr>\n",
       "      <th>24366</th>\n",
       "      <td>Navid_609.jpg</td>\n",
       "      <td>4096.0</td>\n",
       "      <td>2304.0</td>\n",
       "      <td>277.0</td>\n",
       "      <td>1167.0</td>\n",
       "      <td>409.0</td>\n",
       "      <td>396.0</td>\n",
       "      <td>suv</td>\n",
       "      <td>15</td>\n",
       "    </tr>\n",
       "    <tr>\n",
       "      <th>24367</th>\n",
       "      <td>Navid_609.jpg</td>\n",
       "      <td>4096.0</td>\n",
       "      <td>2304.0</td>\n",
       "      <td>1538.0</td>\n",
       "      <td>1228.0</td>\n",
       "      <td>34.0</td>\n",
       "      <td>42.0</td>\n",
       "      <td>wheelbarrow</td>\n",
       "      <td>20</td>\n",
       "    </tr>\n",
       "  </tbody>\n",
       "</table>\n",
       "<p>24368 rows × 9 columns</p>\n",
       "</div>"
      ],
      "text/plain": [
       "             image_id   width  height       x       y      w      h  \\\n",
       "0      Pias (263).jpg   854.0   480.0   514.0   254.0  340.0  213.0   \n",
       "1      Pias (263).jpg   854.0   480.0   429.0   397.0  134.0   83.0   \n",
       "2      Pias (263).jpg   854.0   480.0   283.0   286.0   84.0  127.0   \n",
       "3      Pias (263).jpg   854.0   480.0     1.0   295.0   70.0  132.0   \n",
       "4      Pias (263).jpg   854.0   480.0    41.0   285.0   67.0   60.0   \n",
       "...               ...     ...     ...     ...     ...    ...    ...   \n",
       "24363   Navid_609.jpg  4096.0  2304.0  1436.0  1174.0  107.0  164.0   \n",
       "24364   Navid_609.jpg  4096.0  2304.0  1385.0  1181.0   47.0  155.0   \n",
       "24365   Navid_609.jpg  4096.0  2304.0  1059.0  1206.0  236.0  148.0   \n",
       "24366   Navid_609.jpg  4096.0  2304.0   277.0  1167.0  409.0  396.0   \n",
       "24367   Navid_609.jpg  4096.0  2304.0  1538.0  1228.0   34.0   42.0   \n",
       "\n",
       "             class  en_class  \n",
       "0          minivan         9  \n",
       "1        motorbike        10  \n",
       "2        motorbike        10  \n",
       "3        motorbike        10  \n",
       "4        motorbike        10  \n",
       "...            ...       ...  \n",
       "24363     rickshaw        13  \n",
       "24364     rickshaw        13  \n",
       "24365          car         5  \n",
       "24366          suv        15  \n",
       "24367  wheelbarrow        20  \n",
       "\n",
       "[24368 rows x 9 columns]"
      ]
     },
     "execution_count": 27,
     "metadata": {},
     "output_type": "execute_result"
    }
   ],
   "source": [
    "marking"
   ]
  },
  {
   "cell_type": "code",
   "execution_count": 28,
   "metadata": {
    "execution": {
     "iopub.execute_input": "2020-10-11T18:58:49.948659Z",
     "iopub.status.busy": "2020-10-11T18:58:49.943568Z",
     "iopub.status.idle": "2020-10-11T18:58:49.951299Z",
     "shell.execute_reply": "2020-10-11T18:58:49.951866Z"
    },
    "papermill": {
     "duration": 0.076563,
     "end_time": "2020-10-11T18:58:49.951985",
     "exception": false,
     "start_time": "2020-10-11T18:58:49.875422",
     "status": "completed"
    },
    "tags": []
   },
   "outputs": [],
   "source": [
    "val, idx = min((val, idx) for (idx, val) in enumerate(marking['width'].values))"
   ]
  },
  {
   "cell_type": "code",
   "execution_count": 29,
   "metadata": {
    "execution": {
     "iopub.execute_input": "2020-10-11T18:58:50.065507Z",
     "iopub.status.busy": "2020-10-11T18:58:50.064572Z",
     "iopub.status.idle": "2020-10-11T18:58:50.068270Z",
     "shell.execute_reply": "2020-10-11T18:58:50.068830Z"
    },
    "papermill": {
     "duration": 0.063117,
     "end_time": "2020-10-11T18:58:50.068948",
     "exception": false,
     "start_time": "2020-10-11T18:58:50.005831",
     "status": "completed"
    },
    "tags": []
   },
   "outputs": [
    {
     "data": {
      "text/plain": [
       "13621"
      ]
     },
     "execution_count": 29,
     "metadata": {},
     "output_type": "execute_result"
    }
   ],
   "source": [
    "idx"
   ]
  },
  {
   "cell_type": "markdown",
   "metadata": {
    "papermill": {
     "duration": 0.053231,
     "end_time": "2020-10-11T18:58:50.176373",
     "exception": false,
     "start_time": "2020-10-11T18:58:50.123142",
     "status": "completed"
    },
    "tags": []
   },
   "source": [
    "## Augmentation"
   ]
  },
  {
   "cell_type": "code",
   "execution_count": 30,
   "metadata": {
    "execution": {
     "iopub.execute_input": "2020-10-11T18:58:50.295763Z",
     "iopub.status.busy": "2020-10-11T18:58:50.294896Z",
     "iopub.status.idle": "2020-10-11T18:58:50.298196Z",
     "shell.execute_reply": "2020-10-11T18:58:50.297512Z"
    },
    "papermill": {
     "duration": 0.06823,
     "end_time": "2020-10-11T18:58:50.298305",
     "exception": false,
     "start_time": "2020-10-11T18:58:50.230075",
     "status": "completed"
    },
    "tags": []
   },
   "outputs": [],
   "source": [
    "def get_train_transforms():\n",
    "    return A.Compose(\n",
    "        [\n",
    "            A.Resize(1024,1024,p=1),\n",
    "            A.RandomSizedCrop(min_max_height=(1000, 1000), height=1024, width=1024, p=0.5),\n",
    "            A.OneOf([\n",
    "                A.HueSaturationValue(hue_shift_limit=0.2, sat_shift_limit= 0.2, \n",
    "                                     val_shift_limit=0.2, p=0.9),\n",
    "                A.RandomBrightnessContrast(brightness_limit=0.2, \n",
    "                                           contrast_limit=0.2, p=0.9),\n",
    "            ],p=0.9),\n",
    "            A.ToGray(p=0.01),\n",
    "            #A.HorizontalFlip(p=0.5),\n",
    "            #A.VerticalFlip(p=0.5),\n",
    "            A.Resize(height=512, width=512, p=1),\n",
    "            A.Cutout(num_holes=10, max_h_size=20, max_w_size=20, fill_value=0, p=0.5),\n",
    "            ToTensorV2(p=1.0),\n",
    "        ], \n",
    "        p=1.0, \n",
    "        bbox_params=A.BboxParams(\n",
    "            format='pascal_voc',\n",
    "            min_area=0, \n",
    "            min_visibility=0,\n",
    "            label_fields=['labels']\n",
    "        )\n",
    "    )"
   ]
  },
  {
   "cell_type": "code",
   "execution_count": 31,
   "metadata": {
    "execution": {
     "iopub.execute_input": "2020-10-11T18:58:50.479156Z",
     "iopub.status.busy": "2020-10-11T18:58:50.477009Z",
     "iopub.status.idle": "2020-10-11T18:58:50.480240Z",
     "shell.execute_reply": "2020-10-11T18:58:50.478059Z"
    },
    "papermill": {
     "duration": 0.115067,
     "end_time": "2020-10-11T18:58:50.480407",
     "exception": false,
     "start_time": "2020-10-11T18:58:50.365340",
     "status": "completed"
    },
    "tags": []
   },
   "outputs": [],
   "source": [
    "def get_valid_transforms():\n",
    "    return A.Compose(\n",
    "        [\n",
    "            A.Resize(height=512, width=512, p=1.0),\n",
    "            ToTensorV2(p=1.0),\n",
    "        ], \n",
    "        p=1.0, \n",
    "        bbox_params=A.BboxParams(\n",
    "            format='pascal_voc',\n",
    "            min_area=0, \n",
    "            min_visibility=0,\n",
    "            label_fields=['labels']\n",
    "        )\n",
    "    )"
   ]
  },
  {
   "cell_type": "markdown",
   "metadata": {
    "papermill": {
     "duration": 0.076159,
     "end_time": "2020-10-11T18:58:50.640809",
     "exception": false,
     "start_time": "2020-10-11T18:58:50.564650",
     "status": "completed"
    },
    "tags": []
   },
   "source": [
    "## Dataset Trial"
   ]
  },
  {
   "cell_type": "code",
   "execution_count": 32,
   "metadata": {
    "execution": {
     "iopub.execute_input": "2020-10-11T18:58:50.804633Z",
     "iopub.status.busy": "2020-10-11T18:58:50.803703Z",
     "iopub.status.idle": "2020-10-11T18:58:50.806260Z",
     "shell.execute_reply": "2020-10-11T18:58:50.805481Z"
    },
    "papermill": {
     "duration": 0.087136,
     "end_time": "2020-10-11T18:58:50.806392",
     "exception": false,
     "start_time": "2020-10-11T18:58:50.719256",
     "status": "completed"
    },
    "tags": []
   },
   "outputs": [],
   "source": [
    "TRAIN_ROOT_PATH = '../input/dhakaai-2020/dhaka.ai train/Final Train Dataset'"
   ]
  },
  {
   "cell_type": "code",
   "execution_count": 33,
   "metadata": {
    "execution": {
     "iopub.execute_input": "2020-10-11T18:58:50.990485Z",
     "iopub.status.busy": "2020-10-11T18:58:50.989558Z",
     "iopub.status.idle": "2020-10-11T18:58:50.993482Z",
     "shell.execute_reply": "2020-10-11T18:58:50.994233Z"
    },
    "papermill": {
     "duration": 0.109151,
     "end_time": "2020-10-11T18:58:50.994402",
     "exception": false,
     "start_time": "2020-10-11T18:58:50.885251",
     "status": "completed"
    },
    "tags": []
   },
   "outputs": [],
   "source": [
    "image_ids=df_folds[df_folds['fold'] != 0 ].index.values\n",
    "image_id = image_ids[0]"
   ]
  },
  {
   "cell_type": "code",
   "execution_count": 34,
   "metadata": {
    "execution": {
     "iopub.execute_input": "2020-10-11T18:58:51.155156Z",
     "iopub.status.busy": "2020-10-11T18:58:51.154155Z",
     "iopub.status.idle": "2020-10-11T18:58:51.160126Z",
     "shell.execute_reply": "2020-10-11T18:58:51.160859Z"
    },
    "papermill": {
     "duration": 0.091617,
     "end_time": "2020-10-11T18:58:51.161036",
     "exception": false,
     "start_time": "2020-10-11T18:58:51.069419",
     "status": "completed"
    },
    "tags": []
   },
   "outputs": [
    {
     "data": {
      "text/plain": [
       "'03.jpg'"
      ]
     },
     "execution_count": 34,
     "metadata": {},
     "output_type": "execute_result"
    }
   ],
   "source": [
    "image_id"
   ]
  },
  {
   "cell_type": "code",
   "execution_count": 35,
   "metadata": {
    "execution": {
     "iopub.execute_input": "2020-10-11T18:58:51.349935Z",
     "iopub.status.busy": "2020-10-11T18:58:51.349076Z",
     "iopub.status.idle": "2020-10-11T18:58:51.551044Z",
     "shell.execute_reply": "2020-10-11T18:58:51.549286Z"
    },
    "papermill": {
     "duration": 0.282192,
     "end_time": "2020-10-11T18:58:51.551870",
     "exception": false,
     "start_time": "2020-10-11T18:58:51.269678",
     "status": "completed"
    },
    "tags": []
   },
   "outputs": [],
   "source": [
    "image = cv2.imread(f'{TRAIN_ROOT_PATH}/{image_id}', cv2.IMREAD_COLOR)\n",
    "image = cv2.cvtColor(image, cv2.COLOR_BGR2RGB).astype(np.float32)\n",
    "image /= 255.0"
   ]
  },
  {
   "cell_type": "code",
   "execution_count": 36,
   "metadata": {
    "execution": {
     "iopub.execute_input": "2020-10-11T18:58:51.682612Z",
     "iopub.status.busy": "2020-10-11T18:58:51.681672Z",
     "iopub.status.idle": "2020-10-11T18:58:51.684171Z",
     "shell.execute_reply": "2020-10-11T18:58:51.684695Z"
    },
    "papermill": {
     "duration": 0.070485,
     "end_time": "2020-10-11T18:58:51.684825",
     "exception": false,
     "start_time": "2020-10-11T18:58:51.614340",
     "status": "completed"
    },
    "tags": []
   },
   "outputs": [],
   "source": [
    "records = marking[marking['image_id'] == image_id]\n",
    "boxes = records[['x', 'y', 'w', 'h']].values"
   ]
  },
  {
   "cell_type": "code",
   "execution_count": 37,
   "metadata": {
    "execution": {
     "iopub.execute_input": "2020-10-11T18:58:51.806490Z",
     "iopub.status.busy": "2020-10-11T18:58:51.805841Z",
     "iopub.status.idle": "2020-10-11T18:58:51.810148Z",
     "shell.execute_reply": "2020-10-11T18:58:51.809491Z"
    },
    "papermill": {
     "duration": 0.066335,
     "end_time": "2020-10-11T18:58:51.810252",
     "exception": false,
     "start_time": "2020-10-11T18:58:51.743917",
     "status": "completed"
    },
    "tags": []
   },
   "outputs": [],
   "source": [
    "boxes[:, 2] = boxes[:, 0] + boxes[:, 2]\n",
    "boxes[:, 3] = boxes[:, 1] + boxes[:, 3]"
   ]
  },
  {
   "cell_type": "code",
   "execution_count": 38,
   "metadata": {
    "execution": {
     "iopub.execute_input": "2020-10-11T18:58:51.927510Z",
     "iopub.status.busy": "2020-10-11T18:58:51.926453Z",
     "iopub.status.idle": "2020-10-11T18:58:51.931050Z",
     "shell.execute_reply": "2020-10-11T18:58:51.930389Z"
    },
    "papermill": {
     "duration": 0.065929,
     "end_time": "2020-10-11T18:58:51.931166",
     "exception": false,
     "start_time": "2020-10-11T18:58:51.865237",
     "status": "completed"
    },
    "tags": []
   },
   "outputs": [
    {
     "data": {
      "text/plain": [
       "array([[504.,  19., 712., 314.],\n",
       "       [396.,  85., 518., 285.],\n",
       "       [726., 205., 751., 246.],\n",
       "       [693., 157., 718., 241.],\n",
       "       [687., 228., 704., 276.]])"
      ]
     },
     "execution_count": 38,
     "metadata": {},
     "output_type": "execute_result"
    }
   ],
   "source": [
    "boxes"
   ]
  },
  {
   "cell_type": "code",
   "execution_count": 39,
   "metadata": {
    "execution": {
     "iopub.execute_input": "2020-10-11T18:58:52.062806Z",
     "iopub.status.busy": "2020-10-11T18:58:52.062037Z",
     "iopub.status.idle": "2020-10-11T18:58:52.073475Z",
     "shell.execute_reply": "2020-10-11T18:58:52.072874Z"
    },
    "papermill": {
     "duration": 0.077603,
     "end_time": "2020-10-11T18:58:52.073581",
     "exception": false,
     "start_time": "2020-10-11T18:58:51.995978",
     "status": "completed"
    },
    "tags": []
   },
   "outputs": [],
   "source": [
    "labels = torch.tensor(records['en_class'].values)"
   ]
  },
  {
   "cell_type": "code",
   "execution_count": 40,
   "metadata": {
    "execution": {
     "iopub.execute_input": "2020-10-11T18:58:52.201210Z",
     "iopub.status.busy": "2020-10-11T18:58:52.200482Z",
     "iopub.status.idle": "2020-10-11T18:58:52.207566Z",
     "shell.execute_reply": "2020-10-11T18:58:52.207052Z"
    },
    "papermill": {
     "duration": 0.077097,
     "end_time": "2020-10-11T18:58:52.207670",
     "exception": false,
     "start_time": "2020-10-11T18:58:52.130573",
     "status": "completed"
    },
    "tags": []
   },
   "outputs": [
    {
     "data": {
      "text/plain": [
       "tensor([18,  4, 13, 18, 10])"
      ]
     },
     "execution_count": 40,
     "metadata": {},
     "output_type": "execute_result"
    }
   ],
   "source": [
    "labels"
   ]
  },
  {
   "cell_type": "code",
   "execution_count": 41,
   "metadata": {
    "execution": {
     "iopub.execute_input": "2020-10-11T18:58:52.327519Z",
     "iopub.status.busy": "2020-10-11T18:58:52.326456Z",
     "iopub.status.idle": "2020-10-11T18:58:52.329462Z",
     "shell.execute_reply": "2020-10-11T18:58:52.330061Z"
    },
    "papermill": {
     "duration": 0.065357,
     "end_time": "2020-10-11T18:58:52.330205",
     "exception": false,
     "start_time": "2020-10-11T18:58:52.264848",
     "status": "completed"
    },
    "tags": []
   },
   "outputs": [],
   "source": [
    "target = {}\n",
    "target['boxes'] = boxes\n",
    "target['labels'] = labels\n",
    "target['image_id'] = torch.tensor([0])"
   ]
  },
  {
   "cell_type": "code",
   "execution_count": 42,
   "metadata": {
    "execution": {
     "iopub.execute_input": "2020-10-11T18:58:52.469059Z",
     "iopub.status.busy": "2020-10-11T18:58:52.467999Z",
     "iopub.status.idle": "2020-10-11T18:58:52.470399Z",
     "shell.execute_reply": "2020-10-11T18:58:52.471041Z"
    },
    "papermill": {
     "duration": 0.073974,
     "end_time": "2020-10-11T18:58:52.471167",
     "exception": false,
     "start_time": "2020-10-11T18:58:52.397193",
     "status": "completed"
    },
    "tags": []
   },
   "outputs": [],
   "source": [
    "transforms=get_train_transforms()"
   ]
  },
  {
   "cell_type": "code",
   "execution_count": 43,
   "metadata": {
    "execution": {
     "iopub.execute_input": "2020-10-11T18:58:52.603954Z",
     "iopub.status.busy": "2020-10-11T18:58:52.603140Z",
     "iopub.status.idle": "2020-10-11T18:58:52.695372Z",
     "shell.execute_reply": "2020-10-11T18:58:52.693944Z"
    },
    "papermill": {
     "duration": 0.161274,
     "end_time": "2020-10-11T18:58:52.695525",
     "exception": false,
     "start_time": "2020-10-11T18:58:52.534251",
     "status": "completed"
    },
    "tags": []
   },
   "outputs": [],
   "source": [
    "sample = transforms(**{\n",
    "                    'image': image,\n",
    "                    'bboxes': target['boxes'],\n",
    "                    'labels': labels\n",
    "                })"
   ]
  },
  {
   "cell_type": "code",
   "execution_count": 44,
   "metadata": {
    "execution": {
     "iopub.execute_input": "2020-10-11T18:58:52.821027Z",
     "iopub.status.busy": "2020-10-11T18:58:52.820285Z",
     "iopub.status.idle": "2020-10-11T18:58:52.833468Z",
     "shell.execute_reply": "2020-10-11T18:58:52.832880Z"
    },
    "papermill": {
     "duration": 0.080529,
     "end_time": "2020-10-11T18:58:52.833572",
     "exception": false,
     "start_time": "2020-10-11T18:58:52.753043",
     "status": "completed"
    },
    "tags": []
   },
   "outputs": [],
   "source": [
    "image = sample['image']\n",
    "target['boxes'] = torch.stack(tuple(map(torch.tensor, zip(*sample['bboxes'])))).permute(1, 0)\n",
    "target['boxes'][:,[0,1,2,3]] = target['boxes'][:,[1,0,3,2]]  #yxyx: be warning"
   ]
  },
  {
   "cell_type": "code",
   "execution_count": 45,
   "metadata": {
    "execution": {
     "iopub.execute_input": "2020-10-11T18:58:52.954848Z",
     "iopub.status.busy": "2020-10-11T18:58:52.954098Z",
     "iopub.status.idle": "2020-10-11T18:58:52.994783Z",
     "shell.execute_reply": "2020-10-11T18:58:52.994278Z"
    },
    "papermill": {
     "duration": 0.102601,
     "end_time": "2020-10-11T18:58:52.994884",
     "exception": false,
     "start_time": "2020-10-11T18:58:52.892283",
     "status": "completed"
    },
    "tags": []
   },
   "outputs": [
    {
     "data": {
      "text/plain": [
       "{'boxes': tensor([[ 20.6006, 329.2774, 364.3005, 465.5923],\n",
       "         [ 97.4962, 258.4986, 330.5131, 338.4525],\n",
       "         [237.3063, 474.7674, 285.0748, 491.1514],\n",
       "         [181.3823, 453.1405, 279.2494, 469.5245],\n",
       "         [264.1033, 449.2083, 320.0273, 460.3494]], dtype=torch.float64),\n",
       " 'labels': tensor([18,  4, 13, 18, 10]),\n",
       " 'image_id': tensor([0])}"
      ]
     },
     "execution_count": 45,
     "metadata": {},
     "output_type": "execute_result"
    }
   ],
   "source": [
    "target"
   ]
  },
  {
   "cell_type": "markdown",
   "metadata": {
    "papermill": {
     "duration": 0.058178,
     "end_time": "2020-10-11T18:58:53.110323",
     "exception": false,
     "start_time": "2020-10-11T18:58:53.052145",
     "status": "completed"
    },
    "tags": []
   },
   "source": [
    "## Final Dataset"
   ]
  },
  {
   "cell_type": "code",
   "execution_count": 46,
   "metadata": {
    "execution": {
     "iopub.execute_input": "2020-10-11T18:58:53.251957Z",
     "iopub.status.busy": "2020-10-11T18:58:53.246708Z",
     "iopub.status.idle": "2020-10-11T18:58:53.280860Z",
     "shell.execute_reply": "2020-10-11T18:58:53.280295Z"
    },
    "papermill": {
     "duration": 0.112176,
     "end_time": "2020-10-11T18:58:53.280957",
     "exception": false,
     "start_time": "2020-10-11T18:58:53.168781",
     "status": "completed"
    },
    "tags": []
   },
   "outputs": [],
   "source": [
    "class DatasetRetriever(Dataset):\n",
    "\n",
    "    def __init__(self, marking, image_ids, transforms=None, test=False):\n",
    "        super().__init__()\n",
    "\n",
    "        self.image_ids = image_ids\n",
    "        self.marking = marking\n",
    "        self.transforms = transforms\n",
    "        self.test = test\n",
    "\n",
    "    def __getitem__(self, index: int):\n",
    "        image_id = self.image_ids[index]\n",
    "        \n",
    "        if self.test or random.random() > 0.5:\n",
    "            image, boxes = self.load_image_and_boxes(index)\n",
    "        else:\n",
    "            #image, boxes = self.load_cutmix_image_and_boxes(index)\n",
    "            image, boxes = self.load_image_and_boxes(index)\n",
    "\n",
    "        # there is only one class\n",
    "        records = self.marking[self.marking['image_id'] == image_id]\n",
    "        labels = torch.tensor(records['en_class'].values)\n",
    "        \n",
    "        target = {}\n",
    "        target['boxes'] = boxes\n",
    "        target['labels'] = labels\n",
    "        target['image_id'] = torch.tensor([index])\n",
    "\n",
    "        if self.transforms:\n",
    "            for i in range(10):\n",
    "                sample = self.transforms(**{\n",
    "                    'image': image,\n",
    "                    'bboxes': target['boxes'],\n",
    "                    'labels': labels\n",
    "                })\n",
    "                if len(sample['bboxes']) > 0:\n",
    "                    image = sample['image']\n",
    "                    target['boxes'] = torch.stack(tuple(map(torch.tensor, zip(*sample['bboxes'])))).permute(1, 0)\n",
    "                    target['boxes'][:,[0,1,2,3]] = target['boxes'][:,[1,0,3,2]]  #yxyx: be warning\n",
    "                    break\n",
    "\n",
    "        return image, target, image_id\n",
    "\n",
    "    def __len__(self) -> int:\n",
    "        return self.image_ids.shape[0]\n",
    "\n",
    "    def load_image_and_boxes(self, index):\n",
    "        image_id = self.image_ids[index]\n",
    "        records = self.marking[self.marking['image_id'] == image_id]\n",
    "        \n",
    "        image = cv2.imread(f'{TRAIN_ROOT_PATH}/{image_id}', cv2.IMREAD_COLOR)\n",
    "        \n",
    "        width = records[['width']].values[0][0]\n",
    "        height = records[['height']].values[0][0]\n",
    "        \n",
    "        if image is None:\n",
    "            image = cv2.imread(f'{TRAIN_ROOT_PATH}/{os.path.splitext(image_id)[0]}.jpeg', cv2.IMREAD_COLOR)\n",
    "            \n",
    "        if image is None:\n",
    "            image = cv2.imread(f'{TRAIN_ROOT_PATH}/{os.path.splitext(image_id)[0]}.png', cv2.IMREAD_COLOR)\n",
    "            \n",
    "        if image is None:\n",
    "            image = cv2.imread(f'{TRAIN_ROOT_PATH}/{os.path.splitext(image_id)[0]}.JPG', cv2.IMREAD_COLOR)\n",
    "            \n",
    "        if image is None:\n",
    "            image = cv2.imread(f'{TRAIN_ROOT_PATH}/{os.path.splitext(image_id)[0]}.PNG', cv2.IMREAD_COLOR)\n",
    "            \n",
    "        if ((int(width)!=0) & (int(height)!=0)):\n",
    "            image = cv2.resize(image , (int(width),int(height)))\n",
    "        \n",
    "        image = cv2.cvtColor(image, cv2.COLOR_BGR2RGB).astype(np.float32)\n",
    "        image /= 255.0\n",
    "        records = self.marking[self.marking['image_id'] == image_id]\n",
    "        boxes = records[['x', 'y', 'w', 'h']].values\n",
    "        boxes[:, 2] = boxes[:, 0] + boxes[:, 2]\n",
    "        boxes[:, 3] = boxes[:, 1] + boxes[:, 3]\n",
    "        return image, boxes\n",
    "\n",
    "    def load_cutmix_image_and_boxes(self, index, imsize=1024):\n",
    "        \"\"\" \n",
    "        This implementation of cutmix author:  https://www.kaggle.com/nvnnghia \n",
    "        Refactoring and adaptation: https://www.kaggle.com/shonenkov\n",
    "        \"\"\"\n",
    "        w, h = imsize, imsize\n",
    "        s = imsize // 2\n",
    "    \n",
    "        xc, yc = [int(random.uniform(imsize * 0.25, imsize * 0.75)) for _ in range(2)]  # center x, y\n",
    "        indexes = [index] + [random.randint(0, self.image_ids.shape[0] - 1) for _ in range(3)]\n",
    "\n",
    "        result_image = np.full((imsize, imsize, 3), 1, dtype=np.float32)\n",
    "        result_boxes = []\n",
    "\n",
    "        for i, index in enumerate(indexes):\n",
    "            image, boxes = self.load_image_and_boxes(index)\n",
    "            if i == 0:\n",
    "                x1a, y1a, x2a, y2a = max(xc - w, 0), max(yc - h, 0), xc, yc  # xmin, ymin, xmax, ymax (large image)\n",
    "                x1b, y1b, x2b, y2b = w - (x2a - x1a), h - (y2a - y1a), w, h  # xmin, ymin, xmax, ymax (small image)\n",
    "            elif i == 1:  # top right\n",
    "                x1a, y1a, x2a, y2a = xc, max(yc - h, 0), min(xc + w, s * 2), yc\n",
    "                x1b, y1b, x2b, y2b = 0, h - (y2a - y1a), min(w, x2a - x1a), h\n",
    "            elif i == 2:  # bottom left\n",
    "                x1a, y1a, x2a, y2a = max(xc - w, 0), yc, xc, min(s * 2, yc + h)\n",
    "                x1b, y1b, x2b, y2b = w - (x2a - x1a), 0, max(xc, w), min(y2a - y1a, h)\n",
    "            elif i == 3:  # bottom right\n",
    "                x1a, y1a, x2a, y2a = xc, yc, min(xc + w, s * 2), min(s * 2, yc + h)\n",
    "                x1b, y1b, x2b, y2b = 0, 0, min(w, x2a - x1a), min(y2a - y1a, h)\n",
    "            result_image[y1a:y2a, x1a:x2a] = image[y1b:y2b, x1b:x2b]\n",
    "            padw = x1a - x1b\n",
    "            padh = y1a - y1b\n",
    "\n",
    "            boxes[:, 0] += padw\n",
    "            boxes[:, 1] += padh\n",
    "            boxes[:, 2] += padw\n",
    "            boxes[:, 3] += padh\n",
    "\n",
    "            result_boxes.append(boxes)\n",
    "\n",
    "        result_boxes = np.concatenate(result_boxes, 0)\n",
    "        np.clip(result_boxes[:, 0:], 0, 2 * s, out=result_boxes[:, 0:])\n",
    "        result_boxes = result_boxes.astype(np.int32)\n",
    "        result_boxes = result_boxes[np.where((result_boxes[:,2]-result_boxes[:,0])*(result_boxes[:,3]-result_boxes[:,1]) > 0)]\n",
    "        return result_image, result_boxes"
   ]
  },
  {
   "cell_type": "code",
   "execution_count": 47,
   "metadata": {
    "execution": {
     "iopub.execute_input": "2020-10-11T18:58:53.404805Z",
     "iopub.status.busy": "2020-10-11T18:58:53.403786Z",
     "iopub.status.idle": "2020-10-11T18:58:53.409579Z",
     "shell.execute_reply": "2020-10-11T18:58:53.408977Z"
    },
    "papermill": {
     "duration": 0.071963,
     "end_time": "2020-10-11T18:58:53.409684",
     "exception": false,
     "start_time": "2020-10-11T18:58:53.337721",
     "status": "completed"
    },
    "tags": []
   },
   "outputs": [],
   "source": [
    "fold_number = 0\n",
    "\n",
    "train_dataset = DatasetRetriever(\n",
    "    image_ids=df_folds[df_folds['fold'] != fold_number].index.values,\n",
    "    marking=marking,\n",
    "    transforms=get_train_transforms(),\n",
    "    test=False,\n",
    ")\n",
    "\n",
    "validation_dataset = DatasetRetriever(\n",
    "    image_ids=df_folds[df_folds['fold'] == fold_number].index.values,\n",
    "    marking=marking,\n",
    "    transforms=get_valid_transforms(),\n",
    "    test=True,\n",
    ")"
   ]
  },
  {
   "cell_type": "code",
   "execution_count": 48,
   "metadata": {
    "execution": {
     "iopub.execute_input": "2020-10-11T18:58:53.544893Z",
     "iopub.status.busy": "2020-10-11T18:58:53.544230Z",
     "iopub.status.idle": "2020-10-11T18:58:53.915487Z",
     "shell.execute_reply": "2020-10-11T18:58:53.916057Z"
    },
    "papermill": {
     "duration": 0.446276,
     "end_time": "2020-10-11T18:58:53.916213",
     "exception": false,
     "start_time": "2020-10-11T18:58:53.469937",
     "status": "completed"
    },
    "tags": []
   },
   "outputs": [
    {
     "data": {
      "image/png": "[encoded data removed]",
      "text/plain": [
       "<Figure size 1152x576 with 1 Axes>"
      ]
     },
     "metadata": {
      "needs_background": "light"
     },
     "output_type": "display_data"
    }
   ],
   "source": [
    "image, target, image_id = train_dataset[1005]\n",
    "boxes = target['boxes'].cpu().numpy().astype(np.int32)\n",
    "labels = target['labels'].cpu().numpy().astype(np.int32)\n",
    "\n",
    "numpy_image = image.permute(1,2,0).cpu().numpy()\n",
    "\n",
    "fig, ax = plt.subplots(1, 1, figsize=(16, 8))\n",
    "\n",
    "for i,box in enumerate(boxes):\n",
    "    cv2.rectangle(numpy_image, (box[1], box[0]), (box[3],  box[2]), (0, 1, 0), 2)\n",
    "    cv2.putText(numpy_image,le.inverse_transform([labels[i]])[0] , (box[1], box[0]-10), cv2.FONT_HERSHEY_SIMPLEX, 0.4, (36,255,12), 1)\n",
    "    \n",
    "ax.set_axis_off()\n",
    "ax.imshow(numpy_image);"
   ]
  },
  {
   "cell_type": "markdown",
   "metadata": {
    "papermill": {
     "duration": 0.066284,
     "end_time": "2020-10-11T18:58:54.049145",
     "exception": false,
     "start_time": "2020-10-11T18:58:53.982861",
     "status": "completed"
    },
    "tags": []
   },
   "source": [
    "## Checking"
   ]
  },
  {
   "cell_type": "code",
   "execution_count": 49,
   "metadata": {
    "execution": {
     "iopub.execute_input": "2020-10-11T18:58:54.186129Z",
     "iopub.status.busy": "2020-10-11T18:58:54.185116Z",
     "iopub.status.idle": "2020-10-11T18:58:54.187145Z",
     "shell.execute_reply": "2020-10-11T18:58:54.187836Z"
    },
    "papermill": {
     "duration": 0.072173,
     "end_time": "2020-10-11T18:58:54.187967",
     "exception": false,
     "start_time": "2020-10-11T18:58:54.115794",
     "status": "completed"
    },
    "tags": []
   },
   "outputs": [],
   "source": [
    "#for i in range(len(train_dataset)):\n",
    "    #image, target, image_id = train_dataset[i]"
   ]
  },
  {
   "cell_type": "markdown",
   "metadata": {
    "papermill": {
     "duration": 0.066357,
     "end_time": "2020-10-11T18:58:54.323863",
     "exception": false,
     "start_time": "2020-10-11T18:58:54.257506",
     "status": "completed"
    },
    "tags": []
   },
   "source": [
    "## Meter"
   ]
  },
  {
   "cell_type": "code",
   "execution_count": 50,
   "metadata": {
    "execution": {
     "iopub.execute_input": "2020-10-11T18:58:54.467149Z",
     "iopub.status.busy": "2020-10-11T18:58:54.465259Z",
     "iopub.status.idle": "2020-10-11T18:58:54.467829Z",
     "shell.execute_reply": "2020-10-11T18:58:54.468309Z"
    },
    "papermill": {
     "duration": 0.077809,
     "end_time": "2020-10-11T18:58:54.468451",
     "exception": false,
     "start_time": "2020-10-11T18:58:54.390642",
     "status": "completed"
    },
    "tags": []
   },
   "outputs": [],
   "source": [
    "class AverageMeter(object):\n",
    "    \"\"\"Computes and stores the average and current value\"\"\"\n",
    "    def __init__(self):\n",
    "        self.reset()\n",
    "\n",
    "    def reset(self):\n",
    "        self.val = 0\n",
    "        self.avg = 0\n",
    "        self.sum = 0\n",
    "        self.count = 0\n",
    "\n",
    "    def update(self, val, n=1):\n",
    "        self.val = val\n",
    "        self.sum += val * n\n",
    "        self.count += n\n",
    "        self.avg = self.sum / self.count"
   ]
  },
  {
   "cell_type": "markdown",
   "metadata": {
    "papermill": {
     "duration": 0.066146,
     "end_time": "2020-10-11T18:58:54.603378",
     "exception": false,
     "start_time": "2020-10-11T18:58:54.537232",
     "status": "completed"
    },
    "tags": []
   },
   "source": [
    "## Config"
   ]
  },
  {
   "cell_type": "code",
   "execution_count": 51,
   "metadata": {
    "execution": {
     "iopub.execute_input": "2020-10-11T18:58:54.745579Z",
     "iopub.status.busy": "2020-10-11T18:58:54.744672Z",
     "iopub.status.idle": "2020-10-11T18:58:54.747914Z",
     "shell.execute_reply": "2020-10-11T18:58:54.747289Z"
    },
    "papermill": {
     "duration": 0.078694,
     "end_time": "2020-10-11T18:58:54.748039",
     "exception": false,
     "start_time": "2020-10-11T18:58:54.669345",
     "status": "completed"
    },
    "tags": []
   },
   "outputs": [],
   "source": [
    "class TrainGlobalConfig:\n",
    "    num_workers = 2\n",
    "    batch_size = 4 \n",
    "    n_epochs = 40  # n_epochs = 40\n",
    "    lr = 0.0002\n",
    "\n",
    "    folder = 'effdet5-cutmix-augmix'\n",
    "\n",
    "    # -------------------\n",
    "    verbose = True\n",
    "    verbose_step = 1\n",
    "    # -------------------\n",
    "\n",
    "    # --------------------\n",
    "    step_scheduler = False  # do scheduler.step after optimizer.step\n",
    "    validation_scheduler = True  # do scheduler.step after validation stage loss\n",
    "\n",
    "#     SchedulerClass = torch.optim.lr_scheduler.OneCycleLR\n",
    "#     scheduler_params = dict(\n",
    "#         max_lr=0.001,\n",
    "#         epochs=n_epochs,\n",
    "#         steps_per_epoch=int(len(train_dataset) / batch_size),\n",
    "#         pct_start=0.1,\n",
    "#         anneal_strategy='cos', \n",
    "#         final_div_factor=10**5\n",
    "#     )\n",
    "    \n",
    "    SchedulerClass = torch.optim.lr_scheduler.ReduceLROnPlateau\n",
    "    scheduler_params = dict(\n",
    "        mode='min',\n",
    "        factor=0.5,\n",
    "        patience=1,\n",
    "        verbose=False, \n",
    "        threshold=0.0001,\n",
    "        threshold_mode='abs',\n",
    "        cooldown=0, \n",
    "        min_lr=1e-8,\n",
    "        eps=1e-08\n",
    "    )\n",
    "    # --------------------"
   ]
  },
  {
   "cell_type": "markdown",
   "metadata": {
    "papermill": {
     "duration": 0.066604,
     "end_time": "2020-10-11T18:58:54.882775",
     "exception": false,
     "start_time": "2020-10-11T18:58:54.816171",
     "status": "completed"
    },
    "tags": []
   },
   "source": [
    "## Model"
   ]
  },
  {
   "cell_type": "code",
   "execution_count": 52,
   "metadata": {
    "execution": {
     "iopub.execute_input": "2020-10-11T18:58:55.025263Z",
     "iopub.status.busy": "2020-10-11T18:58:55.024482Z",
     "iopub.status.idle": "2020-10-11T18:59:03.756105Z",
     "shell.execute_reply": "2020-10-11T18:59:03.756936Z"
    },
    "papermill": {
     "duration": 8.806412,
     "end_time": "2020-10-11T18:59:03.757158",
     "exception": false,
     "start_time": "2020-10-11T18:58:54.950746",
     "status": "completed"
    },
    "tags": []
   },
   "outputs": [],
   "source": [
    "from effdet import get_efficientdet_config, EfficientDet, DetBenchTrain\n",
    "from effdet.efficientdet import HeadNet\n",
    "\n",
    "def get_net():\n",
    "    config = get_efficientdet_config('tf_efficientdet_d5')\n",
    "    net = EfficientDet(config, pretrained_backbone=False)\n",
    "    checkpoint = torch.load('../input/efficientdet/efficientdet_d5-ef44aea8.pth')\n",
    "    net.load_state_dict(checkpoint)\n",
    "    config.num_classes = 21\n",
    "    config.image_size = 512\n",
    "    net.class_net = HeadNet(config, num_outputs=config.num_classes, norm_kwargs=dict(eps=.001, momentum=.01))\n",
    "    return DetBenchTrain(net, config).cuda()\n",
    "\n",
    "net = get_net()"
   ]
  },
  {
   "cell_type": "markdown",
   "metadata": {
    "papermill": {
     "duration": 0.067132,
     "end_time": "2020-10-11T18:59:03.915923",
     "exception": false,
     "start_time": "2020-10-11T18:59:03.848791",
     "status": "completed"
    },
    "tags": []
   },
   "source": [
    "## Fitter"
   ]
  },
  {
   "cell_type": "code",
   "execution_count": 53,
   "metadata": {
    "execution": {
     "iopub.execute_input": "2020-10-11T18:59:04.068414Z",
     "iopub.status.busy": "2020-10-11T18:59:04.062999Z",
     "iopub.status.idle": "2020-10-11T18:59:04.099800Z",
     "shell.execute_reply": "2020-10-11T18:59:04.100284Z"
    },
    "papermill": {
     "duration": 0.117194,
     "end_time": "2020-10-11T18:59:04.100412",
     "exception": false,
     "start_time": "2020-10-11T18:59:03.983218",
     "status": "completed"
    },
    "tags": []
   },
   "outputs": [],
   "source": [
    "import warnings\n",
    "\n",
    "warnings.filterwarnings(\"ignore\")\n",
    "\n",
    "class Fitter:\n",
    "    \n",
    "    def __init__(self, model, device, config):\n",
    "        self.config = config\n",
    "        self.epoch = 0\n",
    "\n",
    "        self.base_dir = f'./{config.folder}'\n",
    "        if not os.path.exists(self.base_dir):\n",
    "            os.makedirs(self.base_dir)\n",
    "        \n",
    "        self.log_path = f'{self.base_dir}/log.txt'\n",
    "        self.best_summary_loss = 10**5\n",
    "\n",
    "        self.model = model\n",
    "        self.device = device\n",
    "\n",
    "        param_optimizer = list(self.model.named_parameters())\n",
    "        no_decay = ['bias', 'LayerNorm.bias', 'LayerNorm.weight']\n",
    "        optimizer_grouped_parameters = [\n",
    "            {'params': [p for n, p in param_optimizer if not any(nd in n for nd in no_decay)], 'weight_decay': 0.001},\n",
    "            {'params': [p for n, p in param_optimizer if any(nd in n for nd in no_decay)], 'weight_decay': 0.0}\n",
    "        ] \n",
    "\n",
    "        self.optimizer = torch.optim.AdamW(self.model.parameters(), lr=config.lr)\n",
    "        self.scheduler = config.SchedulerClass(self.optimizer, **config.scheduler_params)\n",
    "        self.log(f'Fitter prepared. Device is {self.device}')\n",
    "\n",
    "    def fit(self, train_loader, validation_loader):\n",
    "        for e in range(self.config.n_epochs):\n",
    "            if self.config.verbose:\n",
    "                lr = self.optimizer.param_groups[0]['lr']\n",
    "                timestamp = datetime.utcnow().isoformat()\n",
    "                self.log(f'\\n{timestamp}\\nLR: {lr}')\n",
    "\n",
    "            t = time.time()\n",
    "            summary_loss = self.train_one_epoch(train_loader)\n",
    "\n",
    "            self.log(f'[RESULT]: Train. Epoch: {self.epoch}, summary_loss: {summary_loss.avg:.5f}, time: {(time.time() - t):.5f}')\n",
    "            self.save(f'{self.base_dir}/last-checkpoint.bin')\n",
    "\n",
    "            t = time.time()\n",
    "            summary_loss = self.validation(validation_loader)\n",
    "\n",
    "            self.log(f'[RESULT]: Val. Epoch: {self.epoch}, summary_loss: {summary_loss.avg:.5f}, time: {(time.time() - t):.5f}')\n",
    "            if summary_loss.avg < self.best_summary_loss:\n",
    "                self.best_summary_loss = summary_loss.avg\n",
    "                self.model.eval()\n",
    "                self.save(f'{self.base_dir}/best-checkpoint-{str(self.epoch).zfill(3)}epoch.bin')\n",
    "                for path in sorted(glob(f'{self.base_dir}/best-checkpoint-*epoch.bin'))[:-3]:\n",
    "                    os.remove(path)\n",
    "\n",
    "            if self.config.validation_scheduler:\n",
    "                self.scheduler.step(metrics=summary_loss.avg)\n",
    "\n",
    "            self.epoch += 1\n",
    "\n",
    "    def validation(self, val_loader):\n",
    "        self.model.eval()\n",
    "        summary_loss = AverageMeter()\n",
    "        t = time.time()\n",
    "        for step, (images, targets, image_ids) in enumerate(val_loader):\n",
    "            if self.config.verbose:\n",
    "                if step % self.config.verbose_step == 0:\n",
    "                    print(\n",
    "                        f'Val Step {step}/{len(val_loader)}, ' + \\\n",
    "                        f'summary_loss: {summary_loss.avg:.5f}, ' + \\\n",
    "                        f'time: {(time.time() - t):.5f}', end='\\r'\n",
    "                    )\n",
    "            with torch.no_grad():\n",
    "                images = torch.stack(images)\n",
    "                batch_size = images.shape[0]\n",
    "                images = images.to(self.device).float()\n",
    "                boxes = [target['boxes'].to(self.device).float() for target in targets]\n",
    "                labels = [target['labels'].to(self.device).float() for target in targets]\n",
    "\n",
    "                loss, _, _ = self.model(images, boxes, labels)\n",
    "                summary_loss.update(loss.detach().item(), batch_size)\n",
    "\n",
    "        return summary_loss\n",
    "\n",
    "    def train_one_epoch(self, train_loader):\n",
    "        self.model.train()\n",
    "        summary_loss = AverageMeter()\n",
    "        t = time.time()\n",
    "        for step, (images, targets, image_ids) in enumerate(train_loader):\n",
    "            if self.config.verbose:\n",
    "                if step % self.config.verbose_step == 0:\n",
    "                    print(\n",
    "                        f'Train Step {step}/{len(train_loader)}, ' + \\\n",
    "                        f'summary_loss: {summary_loss.avg:.5f}, ' + \\\n",
    "                        f'time: {(time.time() - t):.5f}', end='\\r'\n",
    "                    )\n",
    "            \n",
    "            images = torch.stack(images)\n",
    "            images = images.to(self.device).float()\n",
    "            batch_size = images.shape[0]\n",
    "            boxes = [target['boxes'].to(self.device).float() for target in targets]\n",
    "            labels = [target['labels'].to(self.device).float() for target in targets]\n",
    "\n",
    "            self.optimizer.zero_grad()\n",
    "            \n",
    "            loss, _, _ = self.model(images, boxes, labels)\n",
    "            \n",
    "            loss.backward()\n",
    "\n",
    "            summary_loss.update(loss.detach().item(), batch_size)\n",
    "\n",
    "            self.optimizer.step()\n",
    "\n",
    "            if self.config.step_scheduler:\n",
    "                self.scheduler.step()\n",
    "\n",
    "        return summary_loss\n",
    "    \n",
    "    def save(self, path):\n",
    "        self.model.eval()\n",
    "        torch.save({\n",
    "            'model_state_dict': self.model.model.state_dict(),\n",
    "            'optimizer_state_dict': self.optimizer.state_dict(),\n",
    "            'scheduler_state_dict': self.scheduler.state_dict(),\n",
    "            'best_summary_loss': self.best_summary_loss,\n",
    "            'epoch': self.epoch,\n",
    "        }, path)\n",
    "\n",
    "    def load(self, path):\n",
    "        checkpoint = torch.load(path)\n",
    "        self.model.model.load_state_dict(checkpoint['model_state_dict'])\n",
    "        self.optimizer.load_state_dict(checkpoint['optimizer_state_dict'])\n",
    "        self.scheduler.load_state_dict(checkpoint['scheduler_state_dict'])\n",
    "        self.best_summary_loss = checkpoint['best_summary_loss']\n",
    "        self.epoch = checkpoint['epoch'] + 1\n",
    "        \n",
    "    def log(self, message):\n",
    "        if self.config.verbose:\n",
    "            print(message)\n",
    "        with open(self.log_path, 'a+') as logger:\n",
    "            logger.write(f'{message}\\n')"
   ]
  },
  {
   "cell_type": "markdown",
   "metadata": {
    "papermill": {
     "duration": 0.066688,
     "end_time": "2020-10-11T18:59:04.233642",
     "exception": false,
     "start_time": "2020-10-11T18:59:04.166954",
     "status": "completed"
    },
    "tags": []
   },
   "source": [
    "## Running"
   ]
  },
  {
   "cell_type": "code",
   "execution_count": 54,
   "metadata": {
    "execution": {
     "iopub.execute_input": "2020-10-11T18:59:04.423037Z",
     "iopub.status.busy": "2020-10-11T18:59:04.422057Z",
     "iopub.status.idle": "2020-10-11T18:59:04.426113Z",
     "shell.execute_reply": "2020-10-11T18:59:04.425465Z"
    },
    "papermill": {
     "duration": 0.122641,
     "end_time": "2020-10-11T18:59:04.426231",
     "exception": false,
     "start_time": "2020-10-11T18:59:04.303590",
     "status": "completed"
    },
    "tags": []
   },
   "outputs": [],
   "source": [
    "def collate_fn(batch):\n",
    "    return tuple(zip(*batch))"
   ]
  },
  {
   "cell_type": "code",
   "execution_count": 55,
   "metadata": {
    "execution": {
     "iopub.execute_input": "2020-10-11T18:59:04.587017Z",
     "iopub.status.busy": "2020-10-11T18:59:04.586121Z",
     "iopub.status.idle": "2020-10-11T18:59:04.590156Z",
     "shell.execute_reply": "2020-10-11T18:59:04.590789Z"
    },
    "papermill": {
     "duration": 0.09,
     "end_time": "2020-10-11T18:59:04.590948",
     "exception": false,
     "start_time": "2020-10-11T18:59:04.500948",
     "status": "completed"
    },
    "tags": []
   },
   "outputs": [],
   "source": [
    "def run_training():\n",
    "    device = torch.device('cuda:0')\n",
    "    net.to(device)\n",
    "\n",
    "    train_loader = torch.utils.data.DataLoader(\n",
    "        train_dataset,\n",
    "        batch_size=TrainGlobalConfig.batch_size,\n",
    "        sampler=RandomSampler(train_dataset),\n",
    "        pin_memory=False,\n",
    "        drop_last=True,\n",
    "        num_workers=TrainGlobalConfig.num_workers,\n",
    "        collate_fn=collate_fn,\n",
    "    )\n",
    "    val_loader = torch.utils.data.DataLoader(\n",
    "        validation_dataset, \n",
    "        batch_size=TrainGlobalConfig.batch_size,\n",
    "        num_workers=TrainGlobalConfig.num_workers,\n",
    "        shuffle=False,\n",
    "        sampler=SequentialSampler(validation_dataset),\n",
    "        pin_memory=False,\n",
    "        collate_fn=collate_fn,\n",
    "    )\n",
    "\n",
    "    fitter = Fitter(model=net, device=device, config=TrainGlobalConfig)\n",
    "    fitter.fit(train_loader, val_loader)"
   ]
  },
  {
   "cell_type": "code",
   "execution_count": 56,
   "metadata": {
    "execution": {
     "iopub.execute_input": "2020-10-11T18:59:04.738909Z",
     "iopub.status.busy": "2020-10-11T18:59:04.738006Z",
     "iopub.status.idle": "2020-10-12T01:29:22.920205Z",
     "shell.execute_reply": "2020-10-12T01:29:22.868072Z"
    },
    "papermill": {
     "duration": 23418.25818,
     "end_time": "2020-10-12T01:29:22.920356",
     "exception": false,
     "start_time": "2020-10-11T18:59:04.662176",
     "status": "completed"
    },
    "tags": []
   },
   "outputs": [
    {
     "name": "stdout",
     "output_type": "stream",
     "text": [
      "Fitter prepared. Device is cuda:0\n",
      "\n",
      "2020-10-11T18:59:04.770106\n",
      "LR: 0.0002\n",
      "[RESULT]: Train. Epoch: 0, summary_loss: 249.30766, time: 523.03060\n",
      "[RESULT]: Val. Epoch: 0, summary_loss: 11.33505, time: 53.06928\n",
      "\n",
      "2020-10-11T19:08:42.813068\n",
      "LR: 0.0002\n",
      "[RESULT]: Train. Epoch: 1, summary_loss: 4.06705, time: 517.63860\n",
      "[RESULT]: Val. Epoch: 1, summary_loss: 2.79502, time: 49.36603\n",
      "\n",
      "2020-10-11T19:18:12.139459\n",
      "LR: 0.0002\n",
      "[RESULT]: Train. Epoch: 2, summary_loss: 1.80593, time: 514.15043\n",
      "[RESULT]: Val. Epoch: 2, summary_loss: 1.70516, time: 49.32040\n",
      "\n",
      "2020-10-11T19:27:37.987194\n",
      "LR: 0.0002\n",
      "[RESULT]: Train. Epoch: 3, summary_loss: 1.23205, time: 513.19566\n",
      "[RESULT]: Val. Epoch: 3, summary_loss: 1.23428, time: 50.00596\n",
      "\n",
      "2020-10-11T19:37:03.515862\n",
      "LR: 0.0002\n",
      "[RESULT]: Train. Epoch: 4, summary_loss: 0.97384, time: 519.42184\n",
      "[RESULT]: Val. Epoch: 4, summary_loss: 1.05884, time: 51.81286\n",
      "\n",
      "2020-10-11T19:46:36.910276\n",
      "LR: 0.0002\n",
      "[RESULT]: Train. Epoch: 5, summary_loss: 0.81493, time: 529.39557\n",
      "[RESULT]: Val. Epoch: 5, summary_loss: 0.85430, time: 51.67743\n",
      "\n",
      "2020-10-11T19:56:20.255193\n",
      "LR: 0.0002\n",
      "[RESULT]: Train. Epoch: 6, summary_loss: 0.68752, time: 535.20451\n",
      "[RESULT]: Val. Epoch: 6, summary_loss: 0.75636, time: 51.37127\n",
      "\n",
      "2020-10-11T20:06:09.242460\n",
      "LR: 0.0002\n",
      "[RESULT]: Train. Epoch: 7, summary_loss: 0.60506, time: 537.39553\n",
      "[RESULT]: Val. Epoch: 7, summary_loss: 0.68676, time: 51.53173\n",
      "\n",
      "2020-10-11T20:16:00.534319\n",
      "LR: 0.0002\n",
      "[RESULT]: Train. Epoch: 8, summary_loss: 0.54658, time: 535.44288\n",
      "[RESULT]: Val. Epoch: 8, summary_loss: 0.64801, time: 54.10968\n",
      "\n",
      "2020-10-11T20:25:52.628349\n",
      "LR: 0.0002\n",
      "[RESULT]: Train. Epoch: 9, summary_loss: 0.48973, time: 539.20540\n",
      "[RESULT]: Val. Epoch: 9, summary_loss: 0.60761, time: 52.89128\n",
      "\n",
      "2020-10-11T20:35:46.859351\n",
      "LR: 0.0002\n",
      "[RESULT]: Train. Epoch: 10, summary_loss: 0.45237, time: 529.24440\n",
      "[RESULT]: Val. Epoch: 10, summary_loss: 0.60061, time: 51.72519\n",
      "\n",
      "2020-10-11T20:45:30.129577\n",
      "LR: 0.0002\n",
      "[RESULT]: Train. Epoch: 11, summary_loss: 0.41760, time: 529.92468\n",
      "[RESULT]: Val. Epoch: 11, summary_loss: 0.58656, time: 49.74823\n",
      "\n",
      "2020-10-11T20:55:12.319583\n",
      "LR: 0.0002\n",
      "[RESULT]: Train. Epoch: 12, summary_loss: 0.40133, time: 531.42619\n",
      "[RESULT]: Val. Epoch: 12, summary_loss: 0.56185, time: 52.32883\n",
      "\n",
      "2020-10-11T21:04:58.540692\n",
      "LR: 0.0002\n",
      "[RESULT]: Train. Epoch: 13, summary_loss: 0.37434, time: 530.66304\n",
      "[RESULT]: Val. Epoch: 13, summary_loss: 0.56299, time: 53.21778\n",
      "\n",
      "2020-10-11T21:14:43.690271\n",
      "LR: 0.0002\n",
      "[RESULT]: Train. Epoch: 14, summary_loss: 0.35581, time: 533.50779\n",
      "[RESULT]: Val. Epoch: 14, summary_loss: 0.55311, time: 53.89115\n",
      "\n",
      "2020-10-11T21:24:33.201233\n",
      "LR: 0.0002\n",
      "[RESULT]: Train. Epoch: 15, summary_loss: 0.33338, time: 540.19167\n",
      "[RESULT]: Val. Epoch: 15, summary_loss: 0.55216, time: 51.97910\n",
      "\n",
      "2020-10-11T21:34:27.819679\n",
      "LR: 0.0002\n",
      "[RESULT]: Train. Epoch: 16, summary_loss: 0.31995, time: 530.31572\n",
      "[RESULT]: Val. Epoch: 16, summary_loss: 0.56005, time: 53.10436\n",
      "\n",
      "2020-10-11T21:44:12.503997\n",
      "LR: 0.0002\n",
      "[RESULT]: Train. Epoch: 17, summary_loss: 0.31162, time: 533.46643\n",
      "[RESULT]: Val. Epoch: 17, summary_loss: 0.55919, time: 48.66616\n",
      "\n",
      "2020-10-11T21:53:55.962483\n",
      "LR: 0.0001\n",
      "[RESULT]: Train. Epoch: 18, summary_loss: 0.25356, time: 541.38498\n",
      "[RESULT]: Val. Epoch: 18, summary_loss: 0.51437, time: 54.12234\n",
      "\n",
      "2020-10-11T22:03:53.604835\n",
      "LR: 0.0001\n",
      "[RESULT]: Train. Epoch: 19, summary_loss: 0.22074, time: 536.34013\n",
      "[RESULT]: Val. Epoch: 19, summary_loss: 0.52951, time: 54.43458\n",
      "\n",
      "2020-10-11T22:13:45.656324\n",
      "LR: 0.0001\n",
      "[RESULT]: Train. Epoch: 20, summary_loss: 0.20876, time: 541.44460\n",
      "[RESULT]: Val. Epoch: 20, summary_loss: 0.54893, time: 54.94777\n",
      "\n",
      "2020-10-11T22:23:43.351078\n",
      "LR: 5e-05\n",
      "[RESULT]: Train. Epoch: 21, summary_loss: 0.18550, time: 534.43370\n",
      "[RESULT]: Val. Epoch: 21, summary_loss: 0.53129, time: 49.02624\n",
      "\n",
      "2020-10-11T22:33:27.971146\n",
      "LR: 5e-05\n",
      "[RESULT]: Train. Epoch: 22, summary_loss: 0.17275, time: 525.07566\n",
      "[RESULT]: Val. Epoch: 22, summary_loss: 0.54197, time: 54.51735\n",
      "\n",
      "2020-10-11T22:43:08.691357\n",
      "LR: 2.5e-05\n",
      "[RESULT]: Train. Epoch: 23, summary_loss: 0.15671, time: 525.80133\n",
      "[RESULT]: Val. Epoch: 23, summary_loss: 0.54428, time: 49.69613\n",
      "\n",
      "2020-10-11T22:52:45.780806\n",
      "LR: 2.5e-05\n",
      "[RESULT]: Train. Epoch: 24, summary_loss: 0.15097, time: 530.61716\n",
      "[RESULT]: Val. Epoch: 24, summary_loss: 0.55146, time: 49.22751\n",
      "\n",
      "2020-10-11T23:02:26.787304\n",
      "LR: 1.25e-05\n",
      "[RESULT]: Train. Epoch: 25, summary_loss: 0.14528, time: 530.78855\n",
      "[RESULT]: Val. Epoch: 25, summary_loss: 0.55681, time: 52.74993\n",
      "\n",
      "2020-10-11T23:12:11.669485\n",
      "LR: 1.25e-05\n",
      "[RESULT]: Train. Epoch: 26, summary_loss: 0.14056, time: 523.01434\n",
      "[RESULT]: Val. Epoch: 26, summary_loss: 0.56114, time: 54.86500\n",
      "\n",
      "2020-10-11T23:21:50.698096\n",
      "LR: 6.25e-06\n",
      "[RESULT]: Train. Epoch: 27, summary_loss: 0.13831, time: 524.47118\n",
      "[RESULT]: Val. Epoch: 27, summary_loss: 0.55900, time: 47.87893\n",
      "\n",
      "2020-10-11T23:31:24.181316\n",
      "LR: 6.25e-06\n",
      "[RESULT]: Train. Epoch: 28, summary_loss: 0.13551, time: 528.61989\n",
      "[RESULT]: Val. Epoch: 28, summary_loss: 0.56378, time: 49.17571\n",
      "\n",
      "2020-10-11T23:41:03.128240\n",
      "LR: 3.125e-06\n",
      "[RESULT]: Train. Epoch: 29, summary_loss: 0.13391, time: 530.29581\n",
      "[RESULT]: Val. Epoch: 29, summary_loss: 0.56607, time: 53.91372\n",
      "\n",
      "2020-10-11T23:50:48.523551\n",
      "LR: 3.125e-06\n",
      "[RESULT]: Train. Epoch: 30, summary_loss: 0.13272, time: 529.06123\n",
      "[RESULT]: Val. Epoch: 30, summary_loss: 0.56814, time: 56.20225\n",
      "\n",
      "2020-10-12T00:00:35.019224\n",
      "LR: 1.5625e-06\n",
      "[RESULT]: Train. Epoch: 31, summary_loss: 0.13190, time: 536.09064\n",
      "[RESULT]: Val. Epoch: 31, summary_loss: 0.56952, time: 50.05120\n",
      "\n",
      "2020-10-12T00:10:22.551079\n",
      "LR: 1.5625e-06\n",
      "[RESULT]: Train. Epoch: 32, summary_loss: 0.13166, time: 537.79699\n",
      "[RESULT]: Val. Epoch: 32, summary_loss: 0.56651, time: 50.04498\n",
      "\n",
      "2020-10-12T00:20:11.574778\n",
      "LR: 7.8125e-07\n",
      "[RESULT]: Train. Epoch: 33, summary_loss: 0.13157, time: 539.29565\n",
      "[RESULT]: Val. Epoch: 33, summary_loss: 0.56824, time: 52.10816\n",
      "\n",
      "2020-10-12T00:30:04.246148\n",
      "LR: 7.8125e-07\n",
      "[RESULT]: Train. Epoch: 34, summary_loss: 0.13124, time: 534.72560\n",
      "[RESULT]: Val. Epoch: 34, summary_loss: 0.56753, time: 57.91762\n",
      "\n",
      "2020-10-12T00:39:58.038304\n",
      "LR: 3.90625e-07\n",
      "[RESULT]: Train. Epoch: 35, summary_loss: 0.13131, time: 537.63254\n",
      "[RESULT]: Val. Epoch: 35, summary_loss: 0.56746, time: 53.21157\n",
      "\n",
      "2020-10-12T00:49:50.568319\n",
      "LR: 3.90625e-07\n",
      "[RESULT]: Train. Epoch: 36, summary_loss: 0.13172, time: 543.25923\n",
      "[RESULT]: Val. Epoch: 36, summary_loss: 0.56747, time: 50.49648\n",
      "\n",
      "2020-10-12T00:59:45.737697\n",
      "LR: 1.953125e-07\n",
      "[RESULT]: Train. Epoch: 37, summary_loss: 0.13150, time: 540.60565\n",
      "[RESULT]: Val. Epoch: 37, summary_loss: 0.56952, time: 51.58099\n",
      "\n",
      "2020-10-12T01:09:39.125746\n",
      "LR: 1.953125e-07\n",
      "[RESULT]: Train. Epoch: 38, summary_loss: 0.13047, time: 540.71192\n",
      "[RESULT]: Val. Epoch: 38, summary_loss: 0.56970, time: 51.20091\n",
      "\n",
      "2020-10-12T01:19:32.168185\n",
      "LR: 9.765625e-08\n",
      "[RESULT]: Train. Epoch: 39, summary_loss: 0.13060, time: 531.43626\n",
      "[RESULT]: Val. Epoch: 39, summary_loss: 0.56926, time: 57.19618\n"
     ]
    }
   ],
   "source": [
    "run_training()"
   ]
  },
  {
   "cell_type": "code",
   "execution_count": null,
   "metadata": {
    "papermill": {
     "duration": 10.631502,
     "end_time": "2020-10-12T01:29:44.110721",
     "exception": false,
     "start_time": "2020-10-12T01:29:33.479219",
     "status": "completed"
    },
    "tags": []
   },
   "outputs": [],
   "source": []
  }
 ],
 "metadata": {
  "kernelspec": {
   "display_name": "Python 3",
   "language": "python",
   "name": "python3"
  },
  "language_info": {
   "codemirror_mode": {
    "name": "ipython",
    "version": 3
   },
   "file_extension": ".py",
   "mimetype": "text/x-python",
   "name": "python",
   "nbconvert_exporter": "python",
   "pygments_lexer": "ipython3",
   "version": "3.7.6"
  },
  "papermill": {
   "duration": 23485.774841,
   "end_time": "2020-10-12T01:29:56.615283",
   "environment_variables": {},
   "exception": null,
   "input_path": "__notebook__.ipynb",
   "output_path": "__notebook__.ipynb",
   "parameters": {},
   "start_time": "2020-10-11T18:58:30.840442",
   "version": "2.1.0"
  }
 },
 "nbformat": 4,
 "nbformat_minor": 4
}
